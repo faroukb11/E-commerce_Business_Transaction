{
 "cells": [
  {
   "cell_type": "code",
   "execution_count": 1,
   "id": "9658aa4f",
   "metadata": {},
   "outputs": [],
   "source": [
    "import pandas as pd \n",
    "import numpy as np \n",
    "import matplotlib.pyplot as plt\n",
    "import seaborn as sns\n",
    "import matplotlib.ticker as ticker\n"
   ]
  },
  {
   "cell_type": "code",
   "execution_count": 2,
   "id": "1bc968ed",
   "metadata": {},
   "outputs": [],
   "source": [
    "df = pd.read_csv('Sales Transaction v.4a.csv')\n"
   ]
  },
  {
   "cell_type": "code",
   "execution_count": 3,
   "id": "1140503f",
   "metadata": {},
   "outputs": [
    {
     "data": {
      "text/html": [
       "<div>\n",
       "<style scoped>\n",
       "    .dataframe tbody tr th:only-of-type {\n",
       "        vertical-align: middle;\n",
       "    }\n",
       "\n",
       "    .dataframe tbody tr th {\n",
       "        vertical-align: top;\n",
       "    }\n",
       "\n",
       "    .dataframe thead th {\n",
       "        text-align: right;\n",
       "    }\n",
       "</style>\n",
       "<table border=\"1\" class=\"dataframe\">\n",
       "  <thead>\n",
       "    <tr style=\"text-align: right;\">\n",
       "      <th></th>\n",
       "      <th>TransactionNo</th>\n",
       "      <th>Date</th>\n",
       "      <th>ProductNo</th>\n",
       "      <th>ProductName</th>\n",
       "      <th>Price</th>\n",
       "      <th>Quantity</th>\n",
       "      <th>CustomerNo</th>\n",
       "      <th>Country</th>\n",
       "    </tr>\n",
       "  </thead>\n",
       "  <tbody>\n",
       "    <tr>\n",
       "      <th>0</th>\n",
       "      <td>581482</td>\n",
       "      <td>12/9/2019</td>\n",
       "      <td>22485</td>\n",
       "      <td>Set Of 2 Wooden Market Crates</td>\n",
       "      <td>21.47</td>\n",
       "      <td>12</td>\n",
       "      <td>17490.0</td>\n",
       "      <td>United Kingdom</td>\n",
       "    </tr>\n",
       "    <tr>\n",
       "      <th>1</th>\n",
       "      <td>581475</td>\n",
       "      <td>12/9/2019</td>\n",
       "      <td>22596</td>\n",
       "      <td>Christmas Star Wish List Chalkboard</td>\n",
       "      <td>10.65</td>\n",
       "      <td>36</td>\n",
       "      <td>13069.0</td>\n",
       "      <td>United Kingdom</td>\n",
       "    </tr>\n",
       "    <tr>\n",
       "      <th>2</th>\n",
       "      <td>581475</td>\n",
       "      <td>12/9/2019</td>\n",
       "      <td>23235</td>\n",
       "      <td>Storage Tin Vintage Leaf</td>\n",
       "      <td>11.53</td>\n",
       "      <td>12</td>\n",
       "      <td>13069.0</td>\n",
       "      <td>United Kingdom</td>\n",
       "    </tr>\n",
       "    <tr>\n",
       "      <th>3</th>\n",
       "      <td>581475</td>\n",
       "      <td>12/9/2019</td>\n",
       "      <td>23272</td>\n",
       "      <td>Tree T-Light Holder Willie Winkie</td>\n",
       "      <td>10.65</td>\n",
       "      <td>12</td>\n",
       "      <td>13069.0</td>\n",
       "      <td>United Kingdom</td>\n",
       "    </tr>\n",
       "    <tr>\n",
       "      <th>4</th>\n",
       "      <td>581475</td>\n",
       "      <td>12/9/2019</td>\n",
       "      <td>23239</td>\n",
       "      <td>Set Of 4 Knick Knack Tins Poppies</td>\n",
       "      <td>11.94</td>\n",
       "      <td>6</td>\n",
       "      <td>13069.0</td>\n",
       "      <td>United Kingdom</td>\n",
       "    </tr>\n",
       "    <tr>\n",
       "      <th>...</th>\n",
       "      <td>...</td>\n",
       "      <td>...</td>\n",
       "      <td>...</td>\n",
       "      <td>...</td>\n",
       "      <td>...</td>\n",
       "      <td>...</td>\n",
       "      <td>...</td>\n",
       "      <td>...</td>\n",
       "    </tr>\n",
       "    <tr>\n",
       "      <th>536345</th>\n",
       "      <td>C536548</td>\n",
       "      <td>12/1/2018</td>\n",
       "      <td>22168</td>\n",
       "      <td>Organiser Wood Antique White</td>\n",
       "      <td>18.96</td>\n",
       "      <td>-2</td>\n",
       "      <td>12472.0</td>\n",
       "      <td>Germany</td>\n",
       "    </tr>\n",
       "    <tr>\n",
       "      <th>536346</th>\n",
       "      <td>C536548</td>\n",
       "      <td>12/1/2018</td>\n",
       "      <td>21218</td>\n",
       "      <td>Red Spotty Biscuit Tin</td>\n",
       "      <td>14.09</td>\n",
       "      <td>-3</td>\n",
       "      <td>12472.0</td>\n",
       "      <td>Germany</td>\n",
       "    </tr>\n",
       "    <tr>\n",
       "      <th>536347</th>\n",
       "      <td>C536548</td>\n",
       "      <td>12/1/2018</td>\n",
       "      <td>20957</td>\n",
       "      <td>Porcelain Hanging Bell Small</td>\n",
       "      <td>11.74</td>\n",
       "      <td>-1</td>\n",
       "      <td>12472.0</td>\n",
       "      <td>Germany</td>\n",
       "    </tr>\n",
       "    <tr>\n",
       "      <th>536348</th>\n",
       "      <td>C536548</td>\n",
       "      <td>12/1/2018</td>\n",
       "      <td>22580</td>\n",
       "      <td>Advent Calendar Gingham Sack</td>\n",
       "      <td>16.35</td>\n",
       "      <td>-4</td>\n",
       "      <td>12472.0</td>\n",
       "      <td>Germany</td>\n",
       "    </tr>\n",
       "    <tr>\n",
       "      <th>536349</th>\n",
       "      <td>C536548</td>\n",
       "      <td>12/1/2018</td>\n",
       "      <td>22767</td>\n",
       "      <td>Triple Photo Frame Cornice</td>\n",
       "      <td>20.45</td>\n",
       "      <td>-2</td>\n",
       "      <td>12472.0</td>\n",
       "      <td>Germany</td>\n",
       "    </tr>\n",
       "  </tbody>\n",
       "</table>\n",
       "<p>536350 rows × 8 columns</p>\n",
       "</div>"
      ],
      "text/plain": [
       "       TransactionNo       Date ProductNo  \\\n",
       "0             581482  12/9/2019     22485   \n",
       "1             581475  12/9/2019     22596   \n",
       "2             581475  12/9/2019     23235   \n",
       "3             581475  12/9/2019     23272   \n",
       "4             581475  12/9/2019     23239   \n",
       "...              ...        ...       ...   \n",
       "536345       C536548  12/1/2018     22168   \n",
       "536346       C536548  12/1/2018     21218   \n",
       "536347       C536548  12/1/2018     20957   \n",
       "536348       C536548  12/1/2018     22580   \n",
       "536349       C536548  12/1/2018     22767   \n",
       "\n",
       "                                ProductName  Price  Quantity  CustomerNo  \\\n",
       "0             Set Of 2 Wooden Market Crates  21.47        12     17490.0   \n",
       "1       Christmas Star Wish List Chalkboard  10.65        36     13069.0   \n",
       "2                  Storage Tin Vintage Leaf  11.53        12     13069.0   \n",
       "3         Tree T-Light Holder Willie Winkie  10.65        12     13069.0   \n",
       "4         Set Of 4 Knick Knack Tins Poppies  11.94         6     13069.0   \n",
       "...                                     ...    ...       ...         ...   \n",
       "536345         Organiser Wood Antique White  18.96        -2     12472.0   \n",
       "536346               Red Spotty Biscuit Tin  14.09        -3     12472.0   \n",
       "536347         Porcelain Hanging Bell Small  11.74        -1     12472.0   \n",
       "536348         Advent Calendar Gingham Sack  16.35        -4     12472.0   \n",
       "536349           Triple Photo Frame Cornice  20.45        -2     12472.0   \n",
       "\n",
       "               Country  \n",
       "0       United Kingdom  \n",
       "1       United Kingdom  \n",
       "2       United Kingdom  \n",
       "3       United Kingdom  \n",
       "4       United Kingdom  \n",
       "...                ...  \n",
       "536345         Germany  \n",
       "536346         Germany  \n",
       "536347         Germany  \n",
       "536348         Germany  \n",
       "536349         Germany  \n",
       "\n",
       "[536350 rows x 8 columns]"
      ]
     },
     "execution_count": 3,
     "metadata": {},
     "output_type": "execute_result"
    }
   ],
   "source": [
    "df\n"
   ]
  },
  {
   "cell_type": "code",
   "execution_count": 4,
   "id": "2754c5ea",
   "metadata": {},
   "outputs": [],
   "source": [
    "##### basic data exploration #####"
   ]
  },
  {
   "cell_type": "code",
   "execution_count": 5,
   "id": "da3018b3",
   "metadata": {},
   "outputs": [
    {
     "data": {
      "text/plain": [
       "array(['United Kingdom', 'Norway', 'Belgium', 'Germany', 'France',\n",
       "       'Austria', 'Netherlands', 'EIRE', 'USA', 'Channel Islands',\n",
       "       'Iceland', 'Portugal', 'Spain', 'Finland', 'Italy', 'Greece',\n",
       "       'Japan', 'Sweden', 'Denmark', 'Cyprus', 'Malta', 'Switzerland',\n",
       "       'Australia', 'Czech Republic', 'Poland', 'Hong Kong', 'Singapore',\n",
       "       'RSA', 'Israel', 'Unspecified', 'United Arab Emirates', 'Canada',\n",
       "       'European Community', 'Bahrain', 'Brazil', 'Saudi Arabia',\n",
       "       'Lebanon', 'Lithuania'], dtype=object)"
      ]
     },
     "execution_count": 5,
     "metadata": {},
     "output_type": "execute_result"
    }
   ],
   "source": [
    "df.Country.unique()"
   ]
  },
  {
   "cell_type": "code",
   "execution_count": 6,
   "id": "797796b5",
   "metadata": {},
   "outputs": [
    {
     "data": {
      "text/plain": [
       "(536350, 8)"
      ]
     },
     "execution_count": 6,
     "metadata": {},
     "output_type": "execute_result"
    }
   ],
   "source": [
    "df.shape"
   ]
  },
  {
   "cell_type": "code",
   "execution_count": 7,
   "id": "b090c5f9",
   "metadata": {},
   "outputs": [
    {
     "name": "stdout",
     "output_type": "stream",
     "text": [
      "<class 'pandas.core.frame.DataFrame'>\n",
      "RangeIndex: 536350 entries, 0 to 536349\n",
      "Data columns (total 8 columns):\n",
      " #   Column         Non-Null Count   Dtype  \n",
      "---  ------         --------------   -----  \n",
      " 0   TransactionNo  536350 non-null  object \n",
      " 1   Date           536350 non-null  object \n",
      " 2   ProductNo      536350 non-null  object \n",
      " 3   ProductName    536350 non-null  object \n",
      " 4   Price          536350 non-null  float64\n",
      " 5   Quantity       536350 non-null  int64  \n",
      " 6   CustomerNo     536295 non-null  float64\n",
      " 7   Country        536350 non-null  object \n",
      "dtypes: float64(2), int64(1), object(5)\n",
      "memory usage: 32.7+ MB\n"
     ]
    }
   ],
   "source": [
    "df.info()"
   ]
  },
  {
   "cell_type": "code",
   "execution_count": 8,
   "id": "83b14282",
   "metadata": {},
   "outputs": [
    {
     "data": {
      "text/html": [
       "<div>\n",
       "<style scoped>\n",
       "    .dataframe tbody tr th:only-of-type {\n",
       "        vertical-align: middle;\n",
       "    }\n",
       "\n",
       "    .dataframe tbody tr th {\n",
       "        vertical-align: top;\n",
       "    }\n",
       "\n",
       "    .dataframe thead th {\n",
       "        text-align: right;\n",
       "    }\n",
       "</style>\n",
       "<table border=\"1\" class=\"dataframe\">\n",
       "  <thead>\n",
       "    <tr style=\"text-align: right;\">\n",
       "      <th></th>\n",
       "      <th>Price</th>\n",
       "      <th>Quantity</th>\n",
       "      <th>CustomerNo</th>\n",
       "    </tr>\n",
       "  </thead>\n",
       "  <tbody>\n",
       "    <tr>\n",
       "      <th>count</th>\n",
       "      <td>536350.000000</td>\n",
       "      <td>536350.000000</td>\n",
       "      <td>536295.000000</td>\n",
       "    </tr>\n",
       "    <tr>\n",
       "      <th>mean</th>\n",
       "      <td>12.662182</td>\n",
       "      <td>9.919347</td>\n",
       "      <td>15227.893178</td>\n",
       "    </tr>\n",
       "    <tr>\n",
       "      <th>std</th>\n",
       "      <td>8.490450</td>\n",
       "      <td>216.662300</td>\n",
       "      <td>1716.582932</td>\n",
       "    </tr>\n",
       "    <tr>\n",
       "      <th>min</th>\n",
       "      <td>5.130000</td>\n",
       "      <td>-80995.000000</td>\n",
       "      <td>12004.000000</td>\n",
       "    </tr>\n",
       "    <tr>\n",
       "      <th>25%</th>\n",
       "      <td>10.990000</td>\n",
       "      <td>1.000000</td>\n",
       "      <td>13807.000000</td>\n",
       "    </tr>\n",
       "    <tr>\n",
       "      <th>50%</th>\n",
       "      <td>11.940000</td>\n",
       "      <td>3.000000</td>\n",
       "      <td>15152.000000</td>\n",
       "    </tr>\n",
       "    <tr>\n",
       "      <th>75%</th>\n",
       "      <td>14.090000</td>\n",
       "      <td>10.000000</td>\n",
       "      <td>16729.000000</td>\n",
       "    </tr>\n",
       "    <tr>\n",
       "      <th>max</th>\n",
       "      <td>660.620000</td>\n",
       "      <td>80995.000000</td>\n",
       "      <td>18287.000000</td>\n",
       "    </tr>\n",
       "  </tbody>\n",
       "</table>\n",
       "</div>"
      ],
      "text/plain": [
       "               Price       Quantity     CustomerNo\n",
       "count  536350.000000  536350.000000  536295.000000\n",
       "mean       12.662182       9.919347   15227.893178\n",
       "std         8.490450     216.662300    1716.582932\n",
       "min         5.130000  -80995.000000   12004.000000\n",
       "25%        10.990000       1.000000   13807.000000\n",
       "50%        11.940000       3.000000   15152.000000\n",
       "75%        14.090000      10.000000   16729.000000\n",
       "max       660.620000   80995.000000   18287.000000"
      ]
     },
     "execution_count": 8,
     "metadata": {},
     "output_type": "execute_result"
    }
   ],
   "source": [
    "df.describe()"
   ]
  },
  {
   "cell_type": "code",
   "execution_count": 9,
   "id": "f95f1751",
   "metadata": {},
   "outputs": [
    {
     "data": {
      "text/plain": [
       "0         12\n",
       "1         36\n",
       "2         12\n",
       "3         12\n",
       "4          6\n",
       "          ..\n",
       "536345    -2\n",
       "536346    -3\n",
       "536347    -1\n",
       "536348    -4\n",
       "536349    -2\n",
       "Name: Quantity, Length: 536350, dtype: int64"
      ]
     },
     "execution_count": 9,
     "metadata": {},
     "output_type": "execute_result"
    }
   ],
   "source": [
    "df.Quantity"
   ]
  },
  {
   "cell_type": "code",
   "execution_count": 10,
   "id": "5c8dfc7f",
   "metadata": {
    "scrolled": true
   },
   "outputs": [
    {
     "data": {
      "text/plain": [
       "TransactionNo    0.000000\n",
       "Date             0.000000\n",
       "ProductNo        0.000000\n",
       "ProductName      0.000000\n",
       "Price            0.000000\n",
       "Quantity         0.000000\n",
       "CustomerNo       0.000103\n",
       "Country          0.000000\n",
       "dtype: float64"
      ]
     },
     "execution_count": 10,
     "metadata": {},
     "output_type": "execute_result"
    }
   ],
   "source": [
    "df.isnull().sum() / df.shape[0]"
   ]
  },
  {
   "cell_type": "code",
   "execution_count": 11,
   "id": "03182f51",
   "metadata": {},
   "outputs": [],
   "source": [
    "##### Data Cleaning and feature engineering "
   ]
  },
  {
   "cell_type": "code",
   "execution_count": 12,
   "id": "21009f1b",
   "metadata": {},
   "outputs": [],
   "source": [
    "### Eleminating rows with null values\n",
    "df= df.dropna(axis=0,subset='CustomerNo')"
   ]
  },
  {
   "cell_type": "code",
   "execution_count": 13,
   "id": "8b42da26",
   "metadata": {},
   "outputs": [
    {
     "data": {
      "text/plain": [
       "TransactionNo    0\n",
       "Date             0\n",
       "ProductNo        0\n",
       "ProductName      0\n",
       "Price            0\n",
       "Quantity         0\n",
       "CustomerNo       0\n",
       "Country          0\n",
       "dtype: int64"
      ]
     },
     "execution_count": 13,
     "metadata": {},
     "output_type": "execute_result"
    }
   ],
   "source": [
    "df.isnull().sum()"
   ]
  },
  {
   "cell_type": "code",
   "execution_count": 14,
   "id": "38f34d44",
   "metadata": {},
   "outputs": [
    {
     "name": "stderr",
     "output_type": "stream",
     "text": [
      "C:\\Users\\farou\\AppData\\Local\\Temp\\ipykernel_744\\3159052255.py:2: SettingWithCopyWarning: \n",
      "A value is trying to be set on a copy of a slice from a DataFrame.\n",
      "Try using .loc[row_indexer,col_indexer] = value instead\n",
      "\n",
      "See the caveats in the documentation: https://pandas.pydata.org/pandas-docs/stable/user_guide/indexing.html#returning-a-view-versus-a-copy\n",
      "  df.Country = df.Country.apply(lambda x : 'UAE' if  'United Arab Emirates' in x else x)\n"
     ]
    }
   ],
   "source": [
    "df.Country.unique()\n",
    "df.Country = df.Country.apply(lambda x : 'UAE' if  'United Arab Emirates' in x else x)\n"
   ]
  },
  {
   "cell_type": "code",
   "execution_count": 15,
   "id": "9dee4546",
   "metadata": {},
   "outputs": [
    {
     "data": {
      "text/plain": [
       "array(['12/9/2019', '12/9/2019', '12/9/2019', ..., '12/1/2018',\n",
       "       '12/1/2018', '12/1/2018'], dtype=object)"
      ]
     },
     "execution_count": 15,
     "metadata": {},
     "output_type": "execute_result"
    }
   ],
   "source": [
    "df.Date.values"
   ]
  },
  {
   "cell_type": "code",
   "execution_count": 16,
   "id": "2fa9b05f",
   "metadata": {},
   "outputs": [
    {
     "name": "stderr",
     "output_type": "stream",
     "text": [
      "C:\\Users\\farou\\AppData\\Local\\Temp\\ipykernel_744\\2866194280.py:3: SettingWithCopyWarning: \n",
      "A value is trying to be set on a copy of a slice from a DataFrame.\n",
      "Try using .loc[row_indexer,col_indexer] = value instead\n",
      "\n",
      "See the caveats in the documentation: https://pandas.pydata.org/pandas-docs/stable/user_guide/indexing.html#returning-a-view-versus-a-copy\n",
      "  df[\"Date\"]= pd.to_datetime(df[\"Date\"],format= date_format)\n"
     ]
    },
    {
     "name": "stdout",
     "output_type": "stream",
     "text": [
      "<class 'pandas.core.frame.DataFrame'>\n",
      "Int64Index: 536295 entries, 0 to 536349\n",
      "Data columns (total 8 columns):\n",
      " #   Column         Non-Null Count   Dtype         \n",
      "---  ------         --------------   -----         \n",
      " 0   TransactionNo  536295 non-null  object        \n",
      " 1   Date           536295 non-null  datetime64[ns]\n",
      " 2   ProductNo      536295 non-null  object        \n",
      " 3   ProductName    536295 non-null  object        \n",
      " 4   Price          536295 non-null  float64       \n",
      " 5   Quantity       536295 non-null  int64         \n",
      " 6   CustomerNo     536295 non-null  float64       \n",
      " 7   Country        536295 non-null  object        \n",
      "dtypes: datetime64[ns](1), float64(2), int64(1), object(4)\n",
      "memory usage: 36.8+ MB\n"
     ]
    }
   ],
   "source": [
    "### Setting the Date column to datetime format\n",
    "date_format= \"%m/%d/%Y\"\n",
    "df[\"Date\"]= pd.to_datetime(df[\"Date\"],format= date_format)\n",
    "df.info()"
   ]
  },
  {
   "cell_type": "code",
   "execution_count": 17,
   "id": "4d4aaa99",
   "metadata": {},
   "outputs": [
    {
     "name": "stderr",
     "output_type": "stream",
     "text": [
      "C:\\Users\\farou\\AppData\\Local\\Temp\\ipykernel_744\\3645059031.py:2: SettingWithCopyWarning: \n",
      "A value is trying to be set on a copy of a slice from a DataFrame.\n",
      "Try using .loc[row_indexer,col_indexer] = value instead\n",
      "\n",
      "See the caveats in the documentation: https://pandas.pydata.org/pandas-docs/stable/user_guide/indexing.html#returning-a-view-versus-a-copy\n",
      "  df[\"Month\"]=  pd.DatetimeIndex(df['Date']).month\n",
      "C:\\Users\\farou\\AppData\\Local\\Temp\\ipykernel_744\\3645059031.py:3: SettingWithCopyWarning: \n",
      "A value is trying to be set on a copy of a slice from a DataFrame.\n",
      "Try using .loc[row_indexer,col_indexer] = value instead\n",
      "\n",
      "See the caveats in the documentation: https://pandas.pydata.org/pandas-docs/stable/user_guide/indexing.html#returning-a-view-versus-a-copy\n",
      "  df[\"Year\"]=df.Date.apply(lambda x :x.strftime('%Y') )\n"
     ]
    },
    {
     "name": "stdout",
     "output_type": "stream",
     "text": [
      "<class 'pandas.core.frame.DataFrame'>\n",
      "Int64Index: 536295 entries, 0 to 536349\n",
      "Data columns (total 10 columns):\n",
      " #   Column         Non-Null Count   Dtype         \n",
      "---  ------         --------------   -----         \n",
      " 0   TransactionNo  536295 non-null  object        \n",
      " 1   Date           536295 non-null  datetime64[ns]\n",
      " 2   ProductNo      536295 non-null  object        \n",
      " 3   ProductName    536295 non-null  object        \n",
      " 4   Price          536295 non-null  float64       \n",
      " 5   Quantity       536295 non-null  int64         \n",
      " 6   CustomerNo     536295 non-null  float64       \n",
      " 7   Country        536295 non-null  object        \n",
      " 8   Month          536295 non-null  int64         \n",
      " 9   Year           536295 non-null  object        \n",
      "dtypes: datetime64[ns](1), float64(2), int64(2), object(5)\n",
      "memory usage: 45.0+ MB\n"
     ]
    }
   ],
   "source": [
    "#### creating two seperate columns Year and month from Date\n",
    "df[\"Month\"]=  pd.DatetimeIndex(df['Date']).month\n",
    "df[\"Year\"]=df.Date.apply(lambda x :x.strftime('%Y') )\n",
    "df.info()"
   ]
  },
  {
   "cell_type": "code",
   "execution_count": 18,
   "id": "c47719b9",
   "metadata": {},
   "outputs": [
    {
     "name": "stderr",
     "output_type": "stream",
     "text": [
      "C:\\Users\\farou\\AppData\\Local\\Temp\\ipykernel_744\\4027938272.py:3: SettingWithCopyWarning: \n",
      "A value is trying to be set on a copy of a slice from a DataFrame.\n",
      "Try using .loc[row_indexer,col_indexer] = value instead\n",
      "\n",
      "See the caveats in the documentation: https://pandas.pydata.org/pandas-docs/stable/user_guide/indexing.html#returning-a-view-versus-a-copy\n",
      "  df[\"MonthName\"]=df.Date.apply(lambda x : x.strftime('%B'))\n"
     ]
    }
   ],
   "source": [
    "###creating a month name column\n",
    "\n",
    "df[\"MonthName\"]=df.Date.apply(lambda x : x.strftime('%B'))"
   ]
  },
  {
   "cell_type": "code",
   "execution_count": 19,
   "id": "5543d112",
   "metadata": {},
   "outputs": [
    {
     "name": "stderr",
     "output_type": "stream",
     "text": [
      "C:\\Users\\farou\\AppData\\Local\\Temp\\ipykernel_744\\279044299.py:3: SettingWithCopyWarning: \n",
      "A value is trying to be set on a copy of a slice from a DataFrame.\n",
      "Try using .loc[row_indexer,col_indexer] = value instead\n",
      "\n",
      "See the caveats in the documentation: https://pandas.pydata.org/pandas-docs/stable/user_guide/indexing.html#returning-a-view-versus-a-copy\n",
      "  df[\"Totalrevenue\"]=df[\"Price\"]*df[\"Quantity\"]\n",
      "C:\\Users\\farou\\AppData\\Local\\Temp\\ipykernel_744\\279044299.py:4: SettingWithCopyWarning: \n",
      "A value is trying to be set on a copy of a slice from a DataFrame.\n",
      "Try using .loc[row_indexer,col_indexer] = value instead\n",
      "\n",
      "See the caveats in the documentation: https://pandas.pydata.org/pandas-docs/stable/user_guide/indexing.html#returning-a-view-versus-a-copy\n",
      "  df.Totalrevenue = df.Totalrevenue.apply(lambda x : x if x >= 0 else 0)\n"
     ]
    },
    {
     "data": {
      "text/plain": [
       "array([12, 11, 10,  9,  8,  7,  6,  5,  4,  3,  2,  1], dtype=int64)"
      ]
     },
     "execution_count": 19,
     "metadata": {},
     "output_type": "execute_result"
    }
   ],
   "source": [
    "### creating Totalrevenue attribute per transaction\n",
    "\n",
    "df[\"Totalrevenue\"]=df[\"Price\"]*df[\"Quantity\"]\n",
    "df.Totalrevenue = df.Totalrevenue.apply(lambda x : x if x >= 0 else 0)\n",
    "\n",
    "df.Month.unique()"
   ]
  },
  {
   "cell_type": "code",
   "execution_count": 20,
   "id": "2aacf4cb",
   "metadata": {},
   "outputs": [
    {
     "name": "stderr",
     "output_type": "stream",
     "text": [
      "C:\\Users\\farou\\AppData\\Local\\Temp\\ipykernel_744\\2171914246.py:28: SettingWithCopyWarning: \n",
      "A value is trying to be set on a copy of a slice from a DataFrame.\n",
      "Try using .loc[row_indexer,col_indexer] = value instead\n",
      "\n",
      "See the caveats in the documentation: https://pandas.pydata.org/pandas-docs/stable/user_guide/indexing.html#returning-a-view-versus-a-copy\n",
      "  df['Region'] = df['Country'].apply(region)\n"
     ]
    }
   ],
   "source": [
    "### creating Region attribute per transaction\n",
    "\n",
    "europe =['United Kingdom', 'Norway', 'Belgium', 'Germany', 'France',\n",
    "       'Austria', 'Netherlands', 'EIRE',  'Channel Islands',\n",
    "       'Iceland', 'Portugal', 'Spain', 'Finland', 'Italy', 'Greece',\n",
    "        'Sweden', 'Denmark', 'Cyprus', 'Malta', 'Switzerland', 'Czech Republic', 'Poland', \n",
    "       'European Community', 'Lithuania']\n",
    "\n",
    "africa= 'RSA'\n",
    "asia_Oceania=  ['Australia',  'Hong Kong', 'Singapore',\n",
    "        'Israel',  'UAE', 'Japan',\n",
    "        'Bahrain',  'Saudi Arabia',\n",
    "       'Lebanon']     \n",
    "america=[ 'USA',  'Canada', 'Brazil']\n",
    "unspecified=\"Unspecified\"\n",
    "def region(Country):\n",
    "    if Country in europe:\n",
    "        return \"Europe\"\n",
    "    elif Country in africa:\n",
    "        return \"Africa\"\n",
    "    elif Country in  asia_Oceania :\n",
    "        return \"Asia/Oceania\"\n",
    "    elif Country in america :\n",
    "        return \"America\"\n",
    "    else :\n",
    "        return \" Unspecified\"\n",
    "    \n",
    "df['Region'] = df['Country'].apply(region)\n",
    "    "
   ]
  },
  {
   "cell_type": "code",
   "execution_count": 21,
   "id": "36afc493",
   "metadata": {},
   "outputs": [
    {
     "data": {
      "text/plain": [
       "array(['Europe', 'America', 'Asia/Oceania', 'Africa', ' Unspecified'],\n",
       "      dtype=object)"
      ]
     },
     "execution_count": 21,
     "metadata": {},
     "output_type": "execute_result"
    }
   ],
   "source": [
    "df.Region.unique()"
   ]
  },
  {
   "cell_type": "code",
   "execution_count": 22,
   "id": "84c293c5",
   "metadata": {},
   "outputs": [],
   "source": [
    "###creating two seperate data frames for confirmed and cancelled orders \n",
    "\n",
    "df2=df[~(df.Quantity<0)]\n",
    "df3=df[~(df.Quantity>0)]"
   ]
  },
  {
   "cell_type": "code",
   "execution_count": 23,
   "id": "d9109058",
   "metadata": {},
   "outputs": [],
   "source": [
    "### fonction to convert pivot table to a data frame\n",
    "def pivot_to_df(pivot):\n",
    "    table=pd.DataFrame(pivot.to_records())\n",
    "    return table"
   ]
  },
  {
   "cell_type": "code",
   "execution_count": 24,
   "id": "be949254",
   "metadata": {},
   "outputs": [],
   "source": [
    "######### Exploratory Data Analysis ##########\n",
    "\n"
   ]
  },
  {
   "cell_type": "code",
   "execution_count": 25,
   "id": "11973c3b",
   "metadata": {
    "scrolled": true
   },
   "outputs": [
    {
     "data": {
      "text/html": [
       "<div>\n",
       "<style scoped>\n",
       "    .dataframe tbody tr th:only-of-type {\n",
       "        vertical-align: middle;\n",
       "    }\n",
       "\n",
       "    .dataframe tbody tr th {\n",
       "        vertical-align: top;\n",
       "    }\n",
       "\n",
       "    .dataframe thead th {\n",
       "        text-align: right;\n",
       "    }\n",
       "</style>\n",
       "<table border=\"1\" class=\"dataframe\">\n",
       "  <thead>\n",
       "    <tr style=\"text-align: right;\">\n",
       "      <th></th>\n",
       "      <th></th>\n",
       "      <th>Totalrevenue</th>\n",
       "    </tr>\n",
       "    <tr>\n",
       "      <th>ProductNo</th>\n",
       "      <th>ProductName</th>\n",
       "      <th></th>\n",
       "    </tr>\n",
       "  </thead>\n",
       "  <tbody>\n",
       "    <tr>\n",
       "      <th>23843</th>\n",
       "      <th>Paper Craft Little Birdie</th>\n",
       "      <td>1002718.10</td>\n",
       "    </tr>\n",
       "    <tr>\n",
       "      <th>23166</th>\n",
       "      <th>Medium Ceramic Top Storage Jar</th>\n",
       "      <td>881990.18</td>\n",
       "    </tr>\n",
       "    <tr>\n",
       "      <th>22197</th>\n",
       "      <th>Popcorn Holder</th>\n",
       "      <td>587433.94</td>\n",
       "    </tr>\n",
       "    <tr>\n",
       "      <th>84077</th>\n",
       "      <th>World War 2 Gliders Asstd Designs</th>\n",
       "      <td>569735.39</td>\n",
       "    </tr>\n",
       "    <tr>\n",
       "      <th>85123A</th>\n",
       "      <th>Cream Hanging Heart T-Light Holder</th>\n",
       "      <td>484592.69</td>\n",
       "    </tr>\n",
       "    <tr>\n",
       "      <th>...</th>\n",
       "      <th>...</th>\n",
       "      <td>...</td>\n",
       "    </tr>\n",
       "    <tr>\n",
       "      <th>85023C</th>\n",
       "      <th>Pink Large Jeweled Photoframe</th>\n",
       "      <td>0.00</td>\n",
       "    </tr>\n",
       "    <tr>\n",
       "      <th>79320</th>\n",
       "      <th>Flamingo Lights</th>\n",
       "      <td>0.00</td>\n",
       "    </tr>\n",
       "    <tr>\n",
       "      <th>85063</th>\n",
       "      <th>Cream Sweetheart Magazine Rack</th>\n",
       "      <td>0.00</td>\n",
       "    </tr>\n",
       "    <tr>\n",
       "      <th>85068</th>\n",
       "      <th>Cream Sweetheart Shelf + Hooks</th>\n",
       "      <td>0.00</td>\n",
       "    </tr>\n",
       "    <tr>\n",
       "      <th>85042</th>\n",
       "      <th>Antique Lily Fairy Lights</th>\n",
       "      <td>0.00</td>\n",
       "    </tr>\n",
       "  </tbody>\n",
       "</table>\n",
       "<p>3767 rows × 1 columns</p>\n",
       "</div>"
      ],
      "text/plain": [
       "                                              Totalrevenue\n",
       "ProductNo ProductName                                     \n",
       "23843     Paper Craft Little Birdie             1002718.10\n",
       "23166     Medium Ceramic Top Storage Jar         881990.18\n",
       "22197     Popcorn Holder                         587433.94\n",
       "84077     World War 2 Gliders Asstd Designs      569735.39\n",
       "85123A    Cream Hanging Heart T-Light Holder     484592.69\n",
       "...                                                    ...\n",
       "85023C    Pink Large Jeweled Photoframe               0.00\n",
       "79320     Flamingo Lights                             0.00\n",
       "85063     Cream Sweetheart Magazine Rack              0.00\n",
       "85068     Cream Sweetheart Shelf + Hooks              0.00\n",
       "85042     Antique Lily Fairy Lights                   0.00\n",
       "\n",
       "[3767 rows x 1 columns]"
      ]
     },
     "execution_count": 25,
     "metadata": {},
     "output_type": "execute_result"
    }
   ],
   "source": [
    "pd.pivot_table(df,index= [\"ProductNo\",\"ProductName\"], values=\"Totalrevenue\",aggfunc = 'sum').sort_values(\"Totalrevenue\", ascending= False)"
   ]
  },
  {
   "cell_type": "code",
   "execution_count": 26,
   "id": "736bee0e",
   "metadata": {},
   "outputs": [
    {
     "data": {
      "text/html": [
       "<div>\n",
       "<style scoped>\n",
       "    .dataframe tbody tr th:only-of-type {\n",
       "        vertical-align: middle;\n",
       "    }\n",
       "\n",
       "    .dataframe tbody tr th {\n",
       "        vertical-align: top;\n",
       "    }\n",
       "\n",
       "    .dataframe thead th {\n",
       "        text-align: right;\n",
       "    }\n",
       "</style>\n",
       "<table border=\"1\" class=\"dataframe\">\n",
       "  <thead>\n",
       "    <tr style=\"text-align: right;\">\n",
       "      <th></th>\n",
       "      <th>Totalrevenue</th>\n",
       "    </tr>\n",
       "    <tr>\n",
       "      <th>ProductName</th>\n",
       "      <th></th>\n",
       "    </tr>\n",
       "  </thead>\n",
       "  <tbody>\n",
       "    <tr>\n",
       "      <th>Paper Craft Little Birdie</th>\n",
       "      <td>1002718.10</td>\n",
       "    </tr>\n",
       "    <tr>\n",
       "      <th>Medium Ceramic Top Storage Jar</th>\n",
       "      <td>881990.18</td>\n",
       "    </tr>\n",
       "    <tr>\n",
       "      <th>Popcorn Holder</th>\n",
       "      <td>587433.94</td>\n",
       "    </tr>\n",
       "    <tr>\n",
       "      <th>World War 2 Gliders Asstd Designs</th>\n",
       "      <td>569735.39</td>\n",
       "    </tr>\n",
       "    <tr>\n",
       "      <th>Cream Hanging Heart T-Light Holder</th>\n",
       "      <td>484592.69</td>\n",
       "    </tr>\n",
       "    <tr>\n",
       "      <th>Assorted Colour Bird Ornament</th>\n",
       "      <td>421318.74</td>\n",
       "    </tr>\n",
       "    <tr>\n",
       "      <th>Pack Of 72 Retrospot Cake Cases</th>\n",
       "      <td>391485.03</td>\n",
       "    </tr>\n",
       "    <tr>\n",
       "      <th>Rabbit Night Light</th>\n",
       "      <td>329029.89</td>\n",
       "    </tr>\n",
       "    <tr>\n",
       "      <th>Regency Cakestand 3 Tier</th>\n",
       "      <td>307483.85</td>\n",
       "    </tr>\n",
       "    <tr>\n",
       "      <th>Jumbo Bag Red Retrospot</th>\n",
       "      <td>297205.04</td>\n",
       "    </tr>\n",
       "  </tbody>\n",
       "</table>\n",
       "</div>"
      ],
      "text/plain": [
       "                                    Totalrevenue\n",
       "ProductName                                     \n",
       "Paper Craft Little Birdie             1002718.10\n",
       "Medium Ceramic Top Storage Jar         881990.18\n",
       "Popcorn Holder                         587433.94\n",
       "World War 2 Gliders Asstd Designs      569735.39\n",
       "Cream Hanging Heart T-Light Holder     484592.69\n",
       "Assorted Colour Bird Ornament          421318.74\n",
       "Pack Of 72 Retrospot Cake Cases        391485.03\n",
       "Rabbit Night Light                     329029.89\n",
       "Regency Cakestand 3 Tier               307483.85\n",
       "Jumbo Bag Red Retrospot                297205.04"
      ]
     },
     "execution_count": 26,
     "metadata": {},
     "output_type": "execute_result"
    }
   ],
   "source": [
    "top10prod=pd.pivot_table(df,index= \"ProductName\", values=\"Totalrevenue\",aggfunc = 'sum').sort_values(\"Totalrevenue\", ascending= False).head(10)\n",
    "top10prod"
   ]
  },
  {
   "cell_type": "code",
   "execution_count": 27,
   "id": "d047bcab",
   "metadata": {},
   "outputs": [
    {
     "data": {
      "image/png": "[encoded data removed]",
      "text/plain": [
       "<Figure size 864x576 with 1 Axes>"
      ]
     },
     "metadata": {
      "needs_background": "light"
     },
     "output_type": "display_data"
    }
   ],
   "source": [
    "\n",
    "dftop10prod=pd.DataFrame(top10prod.to_records())\n",
    "\n",
    "plt.figure(figsize = (12,8))\n",
    "plt.bar(data = dftop10prod, x = 'ProductName',height = 'Totalrevenue', color = 'lightgreen')\n",
    "plt.title('top 10 highest revenue generating products')\n",
    "plt.yticks(rotation = 45)\n",
    "plt.xticks(rotation = 75)\n",
    "plt.xlabel('Product Name')\n",
    "plt.ylabel('Total Revenue')\n",
    "plt.ticklabel_format(style=\"plain\",axis='y')\n",
    "plt.show()"
   ]
  },
  {
   "cell_type": "code",
   "execution_count": 28,
   "id": "adcb44bd",
   "metadata": {},
   "outputs": [
    {
     "data": {
      "text/html": [
       "<div>\n",
       "<style scoped>\n",
       "    .dataframe tbody tr th:only-of-type {\n",
       "        vertical-align: middle;\n",
       "    }\n",
       "\n",
       "    .dataframe tbody tr th {\n",
       "        vertical-align: top;\n",
       "    }\n",
       "\n",
       "    .dataframe thead th {\n",
       "        text-align: right;\n",
       "    }\n",
       "</style>\n",
       "<table border=\"1\" class=\"dataframe\">\n",
       "  <thead>\n",
       "    <tr style=\"text-align: right;\">\n",
       "      <th></th>\n",
       "      <th>Quantity</th>\n",
       "    </tr>\n",
       "    <tr>\n",
       "      <th>ProductName</th>\n",
       "      <th></th>\n",
       "    </tr>\n",
       "  </thead>\n",
       "  <tbody>\n",
       "    <tr>\n",
       "      <th>Paper Craft Little Birdie</th>\n",
       "      <td>80995</td>\n",
       "    </tr>\n",
       "    <tr>\n",
       "      <th>Medium Ceramic Top Storage Jar</th>\n",
       "      <td>78033</td>\n",
       "    </tr>\n",
       "    <tr>\n",
       "      <th>Popcorn Holder</th>\n",
       "      <td>56921</td>\n",
       "    </tr>\n",
       "    <tr>\n",
       "      <th>World War 2 Gliders Asstd Designs</th>\n",
       "      <td>55047</td>\n",
       "    </tr>\n",
       "    <tr>\n",
       "      <th>Jumbo Bag Red Retrospot</th>\n",
       "      <td>48478</td>\n",
       "    </tr>\n",
       "    <tr>\n",
       "      <th>Cream Hanging Heart T-Light Holder</th>\n",
       "      <td>37956</td>\n",
       "    </tr>\n",
       "    <tr>\n",
       "      <th>Pack Of 72 Retrospot Cake Cases</th>\n",
       "      <td>36515</td>\n",
       "    </tr>\n",
       "    <tr>\n",
       "      <th>Assorted Colour Bird Ornament</th>\n",
       "      <td>36493</td>\n",
       "    </tr>\n",
       "    <tr>\n",
       "      <th>Rabbit Night Light</th>\n",
       "      <td>30788</td>\n",
       "    </tr>\n",
       "    <tr>\n",
       "      <th>Mini Paint Set Vintage</th>\n",
       "      <td>26633</td>\n",
       "    </tr>\n",
       "  </tbody>\n",
       "</table>\n",
       "</div>"
      ],
      "text/plain": [
       "                                    Quantity\n",
       "ProductName                                 \n",
       "Paper Craft Little Birdie              80995\n",
       "Medium Ceramic Top Storage Jar         78033\n",
       "Popcorn Holder                         56921\n",
       "World War 2 Gliders Asstd Designs      55047\n",
       "Jumbo Bag Red Retrospot                48478\n",
       "Cream Hanging Heart T-Light Holder     37956\n",
       "Pack Of 72 Retrospot Cake Cases        36515\n",
       "Assorted Colour Bird Ornament          36493\n",
       "Rabbit Night Light                     30788\n",
       "Mini Paint Set Vintage                 26633"
      ]
     },
     "execution_count": 28,
     "metadata": {},
     "output_type": "execute_result"
    }
   ],
   "source": [
    "\n",
    "bestsellers=pd.pivot_table(df2,index='ProductName',values=\"Quantity\",aggfunc='sum').sort_values(\"Quantity\", ascending = False).head(10)\n",
    "bestsellers"
   ]
  },
  {
   "cell_type": "code",
   "execution_count": 29,
   "id": "c94602fc",
   "metadata": {
    "scrolled": true
   },
   "outputs": [
    {
     "data": {
      "image/png": "[encoded data removed]",
      "text/plain": [
       "<Figure size 864x576 with 1 Axes>"
      ]
     },
     "metadata": {
      "needs_background": "light"
     },
     "output_type": "display_data"
    }
   ],
   "source": [
    "dfbestsellers=pd.DataFrame(bestsellers.to_records())\n",
    "\n",
    "plt.figure(figsize = (12,8))\n",
    "plt.bar(data = dfbestsellers, x = 'ProductName',height = 'Quantity', color = 'lightgreen')\n",
    "plt.title('top 10 bestselling products')\n",
    "plt.yticks(rotation = 45)\n",
    "plt.xticks(rotation = 75)\n",
    "plt.xlabel('Product Name')\n",
    "plt.ylabel('Total quantity ordered')\n",
    "plt.ticklabel_format(style=\"plain\",axis='y')\n",
    "plt.show()"
   ]
  },
  {
   "cell_type": "code",
   "execution_count": 30,
   "id": "3466e25c",
   "metadata": {},
   "outputs": [
    {
     "data": {
      "text/html": [
       "<div>\n",
       "<style scoped>\n",
       "    .dataframe tbody tr th:only-of-type {\n",
       "        vertical-align: middle;\n",
       "    }\n",
       "\n",
       "    .dataframe tbody tr th {\n",
       "        vertical-align: top;\n",
       "    }\n",
       "\n",
       "    .dataframe thead th {\n",
       "        text-align: right;\n",
       "    }\n",
       "</style>\n",
       "<table border=\"1\" class=\"dataframe\">\n",
       "  <thead>\n",
       "    <tr style=\"text-align: right;\">\n",
       "      <th></th>\n",
       "      <th>TransactionNo</th>\n",
       "    </tr>\n",
       "    <tr>\n",
       "      <th>ProductName</th>\n",
       "      <th></th>\n",
       "    </tr>\n",
       "  </thead>\n",
       "  <tbody>\n",
       "    <tr>\n",
       "      <th>Cream Hanging Heart T-Light Holder</th>\n",
       "      <td>2336</td>\n",
       "    </tr>\n",
       "    <tr>\n",
       "      <th>Jumbo Bag Red Retrospot</th>\n",
       "      <td>2115</td>\n",
       "    </tr>\n",
       "    <tr>\n",
       "      <th>Regency Cakestand 3 Tier</th>\n",
       "      <td>2019</td>\n",
       "    </tr>\n",
       "    <tr>\n",
       "      <th>Party Bunting</th>\n",
       "      <td>1708</td>\n",
       "    </tr>\n",
       "    <tr>\n",
       "      <th>Lunch Bag Red Retrospot</th>\n",
       "      <td>1597</td>\n",
       "    </tr>\n",
       "    <tr>\n",
       "      <th>Assorted Colour Bird Ornament</th>\n",
       "      <td>1491</td>\n",
       "    </tr>\n",
       "    <tr>\n",
       "      <th>Popcorn Holder</th>\n",
       "      <td>1426</td>\n",
       "    </tr>\n",
       "    <tr>\n",
       "      <th>Set Of 3 Cake Tins Pantry Design</th>\n",
       "      <td>1399</td>\n",
       "    </tr>\n",
       "    <tr>\n",
       "      <th>Pack Of 72 Retrospot Cake Cases</th>\n",
       "      <td>1373</td>\n",
       "    </tr>\n",
       "    <tr>\n",
       "      <th>Lunch Bag Black Skull</th>\n",
       "      <td>1329</td>\n",
       "    </tr>\n",
       "  </tbody>\n",
       "</table>\n",
       "</div>"
      ],
      "text/plain": [
       "                                    TransactionNo\n",
       "ProductName                                      \n",
       "Cream Hanging Heart T-Light Holder           2336\n",
       "Jumbo Bag Red Retrospot                      2115\n",
       "Regency Cakestand 3 Tier                     2019\n",
       "Party Bunting                                1708\n",
       "Lunch Bag Red Retrospot                      1597\n",
       "Assorted Colour Bird Ornament                1491\n",
       "Popcorn Holder                               1426\n",
       "Set Of 3 Cake Tins Pantry Design             1399\n",
       "Pack Of 72 Retrospot Cake Cases              1373\n",
       "Lunch Bag Black Skull                        1329"
      ]
     },
     "execution_count": 30,
     "metadata": {},
     "output_type": "execute_result"
    }
   ],
   "source": [
    "mostordered=pd.pivot_table(df2,index= \"ProductName\", values=\"TransactionNo\",aggfunc = 'count').sort_values(\"TransactionNo\", ascending= False).head(10)\n",
    "mostordered"
   ]
  },
  {
   "cell_type": "code",
   "execution_count": 31,
   "id": "5b790a66",
   "metadata": {},
   "outputs": [
    {
     "data": {
      "text/html": [
       "<div>\n",
       "<style scoped>\n",
       "    .dataframe tbody tr th:only-of-type {\n",
       "        vertical-align: middle;\n",
       "    }\n",
       "\n",
       "    .dataframe tbody tr th {\n",
       "        vertical-align: top;\n",
       "    }\n",
       "\n",
       "    .dataframe thead th {\n",
       "        text-align: right;\n",
       "    }\n",
       "</style>\n",
       "<table border=\"1\" class=\"dataframe\">\n",
       "  <thead>\n",
       "    <tr style=\"text-align: right;\">\n",
       "      <th></th>\n",
       "      <th>TransactionNo</th>\n",
       "    </tr>\n",
       "    <tr>\n",
       "      <th>ProductName</th>\n",
       "      <th></th>\n",
       "    </tr>\n",
       "  </thead>\n",
       "  <tbody>\n",
       "    <tr>\n",
       "      <th>Regency Cakestand 3 Tier</th>\n",
       "      <td>181</td>\n",
       "    </tr>\n",
       "    <tr>\n",
       "      <th>Jam Making Set With Jars</th>\n",
       "      <td>86</td>\n",
       "    </tr>\n",
       "    <tr>\n",
       "      <th>Set Of 3 Cake Tins Pantry Design</th>\n",
       "      <td>73</td>\n",
       "    </tr>\n",
       "    <tr>\n",
       "      <th>Strawberry Ceramic Trinket Pot</th>\n",
       "      <td>61</td>\n",
       "    </tr>\n",
       "    <tr>\n",
       "      <th>Roses Regency Teacup And Saucer</th>\n",
       "      <td>53</td>\n",
       "    </tr>\n",
       "    <tr>\n",
       "      <th>Popcorn Holder</th>\n",
       "      <td>50</td>\n",
       "    </tr>\n",
       "    <tr>\n",
       "      <th>Recipe Box Pantry Yellow Design</th>\n",
       "      <td>47</td>\n",
       "    </tr>\n",
       "    <tr>\n",
       "      <th>Wood 2 Drawer Cabinet White Finish</th>\n",
       "      <td>45</td>\n",
       "    </tr>\n",
       "    <tr>\n",
       "      <th>Jumbo Bag Red Retrospot</th>\n",
       "      <td>44</td>\n",
       "    </tr>\n",
       "    <tr>\n",
       "      <th>Green Regency Teacup And Saucer</th>\n",
       "      <td>42</td>\n",
       "    </tr>\n",
       "  </tbody>\n",
       "</table>\n",
       "</div>"
      ],
      "text/plain": [
       "                                    TransactionNo\n",
       "ProductName                                      \n",
       "Regency Cakestand 3 Tier                      181\n",
       "Jam Making Set With Jars                       86\n",
       "Set Of 3 Cake Tins Pantry Design               73\n",
       "Strawberry Ceramic Trinket Pot                 61\n",
       "Roses Regency Teacup And Saucer                53\n",
       "Popcorn Holder                                 50\n",
       "Recipe Box Pantry Yellow Design                47\n",
       "Wood 2 Drawer Cabinet White Finish             45\n",
       "Jumbo Bag Red Retrospot                        44\n",
       "Green Regency Teacup And Saucer                42"
      ]
     },
     "execution_count": 31,
     "metadata": {},
     "output_type": "execute_result"
    }
   ],
   "source": [
    "df3=df[~(df.Quantity>0)]\n",
    "mostcancelled=pd.pivot_table(df3,index= \"ProductName\", values=[\"TransactionNo\"],aggfunc = 'count').sort_values(\"TransactionNo\", ascending= False).head(10)\n",
    "mostcancelled"
   ]
  },
  {
   "cell_type": "code",
   "execution_count": 32,
   "id": "dbed3480",
   "metadata": {},
   "outputs": [
    {
     "data": {
      "image/png": "[encoded data removed]",
      "text/plain": [
       "<Figure size 864x576 with 1 Axes>"
      ]
     },
     "metadata": {
      "needs_background": "light"
     },
     "output_type": "display_data"
    }
   ],
   "source": [
    "dfmostcancelled=pd.DataFrame(mostcancelled.to_records())\n",
    "plt.figure(figsize = (12,8))\n",
    "plt.bar(data = dfmostcancelled, x = 'ProductName',height = 'TransactionNo', color = 'red')\n",
    "plt.title('top 10  products with most cancelled orders')\n",
    "plt.yticks(rotation = 45)\n",
    "plt.xticks(rotation = 75)\n",
    "plt.xlabel('Product Name')\n",
    "plt.ylabel('Total cancelled orders')\n",
    "plt.ticklabel_format(style=\"plain\",axis='y')\n",
    "plt.show()"
   ]
  },
  {
   "cell_type": "code",
   "execution_count": 33,
   "id": "9d375836",
   "metadata": {},
   "outputs": [
    {
     "data": {
      "text/html": [
       "<div>\n",
       "<style scoped>\n",
       "    .dataframe tbody tr th:only-of-type {\n",
       "        vertical-align: middle;\n",
       "    }\n",
       "\n",
       "    .dataframe tbody tr th {\n",
       "        vertical-align: top;\n",
       "    }\n",
       "\n",
       "    .dataframe thead th {\n",
       "        text-align: right;\n",
       "    }\n",
       "</style>\n",
       "<table border=\"1\" class=\"dataframe\">\n",
       "  <thead>\n",
       "    <tr style=\"text-align: right;\">\n",
       "      <th></th>\n",
       "      <th>Totalrevenue</th>\n",
       "    </tr>\n",
       "    <tr>\n",
       "      <th>Year</th>\n",
       "      <th></th>\n",
       "    </tr>\n",
       "  </thead>\n",
       "  <tbody>\n",
       "    <tr>\n",
       "      <th>2019</th>\n",
       "      <td>58550476.82</td>\n",
       "    </tr>\n",
       "    <tr>\n",
       "      <th>2018</th>\n",
       "      <td>4415415.52</td>\n",
       "    </tr>\n",
       "  </tbody>\n",
       "</table>\n",
       "</div>"
      ],
      "text/plain": [
       "      Totalrevenue\n",
       "Year              \n",
       "2019   58550476.82\n",
       "2018    4415415.52"
      ]
     },
     "execution_count": 33,
     "metadata": {},
     "output_type": "execute_result"
    }
   ],
   "source": [
    "bestyear=pd.pivot_table(df2,index= \"Year\", values=\"Totalrevenue\",aggfunc = 'sum').sort_values(\"Totalrevenue\", ascending= False)\n",
    "bestyear\n",
    "\n"
   ]
  },
  {
   "cell_type": "code",
   "execution_count": 34,
   "id": "7be42d44",
   "metadata": {},
   "outputs": [
    {
     "data": {
      "image/png": "[encoded data removed]",
      "text/plain": [
       "<Figure size 864x576 with 1 Axes>"
      ]
     },
     "metadata": {
      "needs_background": "light"
     },
     "output_type": "display_data"
    }
   ],
   "source": [
    "dfbestyear=pd.DataFrame(bestyear.to_records())\n",
    "dfbestyear.Year= dfbestyear.Year.apply(lambda x : str(x))\n",
    "plt.figure(figsize = (12,8))\n",
    "plt.barh(data = dfbestyear, width = 'Totalrevenue',y = 'Year', color = 'lightblue')\n",
    "plt.title('total revenue per year')\n",
    "plt.yticks(rotation = 45)\n",
    "plt.xticks(rotation = 45)\n",
    "plt.xlabel('Total Revenue')\n",
    "plt.ylabel('Year')\n",
    "plt.ticklabel_format(style=\"plain\",axis='x')\n",
    "plt.show()\n",
    "\n"
   ]
  },
  {
   "cell_type": "code",
   "execution_count": 57,
   "id": "fd84ef1a",
   "metadata": {},
   "outputs": [
    {
     "data": {
      "text/html": [
       "<div>\n",
       "<style scoped>\n",
       "    .dataframe tbody tr th:only-of-type {\n",
       "        vertical-align: middle;\n",
       "    }\n",
       "\n",
       "    .dataframe tbody tr th {\n",
       "        vertical-align: top;\n",
       "    }\n",
       "\n",
       "    .dataframe thead th {\n",
       "        text-align: right;\n",
       "    }\n",
       "</style>\n",
       "<table border=\"1\" class=\"dataframe\">\n",
       "  <thead>\n",
       "    <tr style=\"text-align: right;\">\n",
       "      <th></th>\n",
       "      <th>TransactionNo</th>\n",
       "    </tr>\n",
       "    <tr>\n",
       "      <th>ProductName</th>\n",
       "      <th></th>\n",
       "    </tr>\n",
       "  </thead>\n",
       "  <tbody>\n",
       "    <tr>\n",
       "      <th>Cream Hanging Heart T-Light Holder</th>\n",
       "      <td>2336</td>\n",
       "    </tr>\n",
       "    <tr>\n",
       "      <th>Jumbo Bag Red Retrospot</th>\n",
       "      <td>2115</td>\n",
       "    </tr>\n",
       "    <tr>\n",
       "      <th>Regency Cakestand 3 Tier</th>\n",
       "      <td>2019</td>\n",
       "    </tr>\n",
       "    <tr>\n",
       "      <th>Party Bunting</th>\n",
       "      <td>1708</td>\n",
       "    </tr>\n",
       "    <tr>\n",
       "      <th>Lunch Bag Red Retrospot</th>\n",
       "      <td>1597</td>\n",
       "    </tr>\n",
       "    <tr>\n",
       "      <th>Assorted Colour Bird Ornament</th>\n",
       "      <td>1491</td>\n",
       "    </tr>\n",
       "    <tr>\n",
       "      <th>Popcorn Holder</th>\n",
       "      <td>1426</td>\n",
       "    </tr>\n",
       "    <tr>\n",
       "      <th>Set Of 3 Cake Tins Pantry Design</th>\n",
       "      <td>1399</td>\n",
       "    </tr>\n",
       "    <tr>\n",
       "      <th>Pack Of 72 Retrospot Cake Cases</th>\n",
       "      <td>1373</td>\n",
       "    </tr>\n",
       "    <tr>\n",
       "      <th>Lunch Bag Black Skull</th>\n",
       "      <td>1329</td>\n",
       "    </tr>\n",
       "  </tbody>\n",
       "</table>\n",
       "</div>"
      ],
      "text/plain": [
       "                                    TransactionNo\n",
       "ProductName                                      \n",
       "Cream Hanging Heart T-Light Holder           2336\n",
       "Jumbo Bag Red Retrospot                      2115\n",
       "Regency Cakestand 3 Tier                     2019\n",
       "Party Bunting                                1708\n",
       "Lunch Bag Red Retrospot                      1597\n",
       "Assorted Colour Bird Ornament                1491\n",
       "Popcorn Holder                               1426\n",
       "Set Of 3 Cake Tins Pantry Design             1399\n",
       "Pack Of 72 Retrospot Cake Cases              1373\n",
       "Lunch Bag Black Skull                        1329"
      ]
     },
     "execution_count": 57,
     "metadata": {},
     "output_type": "execute_result"
    }
   ],
   "source": [
    "pd.pivot_table(df2,index= \"ProductName\", values=\"TransactionNo\",aggfunc = 'count').sort_values(\"TransactionNo\", ascending= False).head(10)"
   ]
  },
  {
   "cell_type": "code",
   "execution_count": 36,
   "id": "ba6643ca",
   "metadata": {
    "scrolled": true
   },
   "outputs": [
    {
     "data": {
      "text/html": [
       "<div>\n",
       "<style scoped>\n",
       "    .dataframe tbody tr th:only-of-type {\n",
       "        vertical-align: middle;\n",
       "    }\n",
       "\n",
       "    .dataframe tbody tr th {\n",
       "        vertical-align: top;\n",
       "    }\n",
       "\n",
       "    .dataframe thead th {\n",
       "        text-align: right;\n",
       "    }\n",
       "</style>\n",
       "<table border=\"1\" class=\"dataframe\">\n",
       "  <thead>\n",
       "    <tr style=\"text-align: right;\">\n",
       "      <th></th>\n",
       "      <th>Totalrevenue</th>\n",
       "    </tr>\n",
       "    <tr>\n",
       "      <th>Country</th>\n",
       "      <th></th>\n",
       "    </tr>\n",
       "  </thead>\n",
       "  <tbody>\n",
       "    <tr>\n",
       "      <th>United Kingdom</th>\n",
       "      <td>52524576.47</td>\n",
       "    </tr>\n",
       "    <tr>\n",
       "      <th>Netherlands</th>\n",
       "      <td>2151553.59</td>\n",
       "    </tr>\n",
       "    <tr>\n",
       "      <th>EIRE</th>\n",
       "      <td>1713410.95</td>\n",
       "    </tr>\n",
       "    <tr>\n",
       "      <th>Germany</th>\n",
       "      <td>1371543.27</td>\n",
       "    </tr>\n",
       "    <tr>\n",
       "      <th>France</th>\n",
       "      <td>1330652.89</td>\n",
       "    </tr>\n",
       "    <tr>\n",
       "      <th>Australia</th>\n",
       "      <td>995607.91</td>\n",
       "    </tr>\n",
       "    <tr>\n",
       "      <th>Sweden</th>\n",
       "      <td>401879.89</td>\n",
       "    </tr>\n",
       "    <tr>\n",
       "      <th>Switzerland</th>\n",
       "      <td>361969.25</td>\n",
       "    </tr>\n",
       "    <tr>\n",
       "      <th>Japan</th>\n",
       "      <td>293155.44</td>\n",
       "    </tr>\n",
       "    <tr>\n",
       "      <th>Spain</th>\n",
       "      <td>281012.27</td>\n",
       "    </tr>\n",
       "  </tbody>\n",
       "</table>\n",
       "</div>"
      ],
      "text/plain": [
       "                Totalrevenue\n",
       "Country                     \n",
       "United Kingdom   52524576.47\n",
       "Netherlands       2151553.59\n",
       "EIRE              1713410.95\n",
       "Germany           1371543.27\n",
       "France            1330652.89\n",
       "Australia          995607.91\n",
       "Sweden             401879.89\n",
       "Switzerland        361969.25\n",
       "Japan              293155.44\n",
       "Spain              281012.27"
      ]
     },
     "execution_count": 36,
     "metadata": {},
     "output_type": "execute_result"
    }
   ],
   "source": [
    "max_countries=pd.pivot_table(df2,index= \"Country\", values=\"Totalrevenue\",aggfunc = 'sum').sort_values(\"Totalrevenue\", ascending= False).head(10)\n",
    "max_countries"
   ]
  },
  {
   "cell_type": "code",
   "execution_count": 37,
   "id": "4d268f07",
   "metadata": {},
   "outputs": [
    {
     "data": {
      "image/png": "[encoded data removed]",
      "text/plain": [
       "<Figure size 864x576 with 1 Axes>"
      ]
     },
     "metadata": {
      "needs_background": "light"
     },
     "output_type": "display_data"
    }
   ],
   "source": [
    "dfmax_countries=pd.DataFrame(max_countries.to_records())\n",
    "\n",
    "\n",
    "plt.figure(figsize = (12,8))\n",
    "plt.bar(data = dfmax_countries, x = 'Country',height = 'Totalrevenue', color = 'lightgreen')\n",
    "plt.title('top 10 highest revenue generating countries')\n",
    "plt.yticks(rotation = 45)\n",
    "plt.xticks(rotation = 75)\n",
    "plt.xlabel('Product Name')\n",
    "plt.ylabel('Total revenue')\n",
    "plt.ticklabel_format(style=\"plain\",axis='y')\n",
    "plt.show()"
   ]
  },
  {
   "cell_type": "code",
   "execution_count": 38,
   "id": "903baa76",
   "metadata": {},
   "outputs": [
    {
     "data": {
      "text/html": [
       "<div>\n",
       "<style scoped>\n",
       "    .dataframe tbody tr th:only-of-type {\n",
       "        vertical-align: middle;\n",
       "    }\n",
       "\n",
       "    .dataframe tbody tr th {\n",
       "        vertical-align: top;\n",
       "    }\n",
       "\n",
       "    .dataframe thead th {\n",
       "        text-align: right;\n",
       "    }\n",
       "</style>\n",
       "<table border=\"1\" class=\"dataframe\">\n",
       "  <thead>\n",
       "    <tr style=\"text-align: right;\">\n",
       "      <th></th>\n",
       "      <th>Totalrevenue</th>\n",
       "    </tr>\n",
       "    <tr>\n",
       "      <th>Country</th>\n",
       "      <th></th>\n",
       "    </tr>\n",
       "  </thead>\n",
       "  <tbody>\n",
       "    <tr>\n",
       "      <th>United Kingdom</th>\n",
       "      <td>3813374.14</td>\n",
       "    </tr>\n",
       "    <tr>\n",
       "      <th>Germany</th>\n",
       "      <td>100750.54</td>\n",
       "    </tr>\n",
       "    <tr>\n",
       "      <th>France</th>\n",
       "      <td>92026.61</td>\n",
       "    </tr>\n",
       "    <tr>\n",
       "      <th>EIRE</th>\n",
       "      <td>77979.16</td>\n",
       "    </tr>\n",
       "    <tr>\n",
       "      <th>Netherlands</th>\n",
       "      <td>75837.44</td>\n",
       "    </tr>\n",
       "    <tr>\n",
       "      <th>Japan</th>\n",
       "      <td>49485.83</td>\n",
       "    </tr>\n",
       "    <tr>\n",
       "      <th>Sweden</th>\n",
       "      <td>43407.60</td>\n",
       "    </tr>\n",
       "    <tr>\n",
       "      <th>Belgium</th>\n",
       "      <td>42667.95</td>\n",
       "    </tr>\n",
       "    <tr>\n",
       "      <th>Norway</th>\n",
       "      <td>40596.60</td>\n",
       "    </tr>\n",
       "    <tr>\n",
       "      <th>Finland</th>\n",
       "      <td>13461.36</td>\n",
       "    </tr>\n",
       "  </tbody>\n",
       "</table>\n",
       "</div>"
      ],
      "text/plain": [
       "                Totalrevenue\n",
       "Country                     \n",
       "United Kingdom    3813374.14\n",
       "Germany            100750.54\n",
       "France              92026.61\n",
       "EIRE                77979.16\n",
       "Netherlands         75837.44\n",
       "Japan               49485.83\n",
       "Sweden              43407.60\n",
       "Belgium             42667.95\n",
       "Norway              40596.60\n",
       "Finland             13461.36"
      ]
     },
     "execution_count": 38,
     "metadata": {},
     "output_type": "execute_result"
    }
   ],
   "source": [
    "\n",
    "df_2018=df2[df2.Year==\"2018\"]\n",
    "\n",
    "maxrevenue_2018=pd.pivot_table(df_2018,index=\"Country\",values=\"Totalrevenue\",aggfunc=\"sum\").sort_values(\"Totalrevenue\",ascending=False).head(10)\n",
    "maxrevenue_2018"
   ]
  },
  {
   "cell_type": "code",
   "execution_count": 39,
   "id": "50392237",
   "metadata": {},
   "outputs": [
    {
     "data": {
      "image/png": "[encoded data removed]",
      "text/plain": [
       "<Figure size 864x576 with 1 Axes>"
      ]
     },
     "metadata": {
      "needs_background": "light"
     },
     "output_type": "display_data"
    }
   ],
   "source": [
    "dfmaxrevenue2018=pd.DataFrame(maxrevenue_2018.to_records())\n",
    "plt.figure(figsize = (12,8))\n",
    "plt.bar(data = dfmaxrevenue2018, x = 'Country',height = 'Totalrevenue', color = 'lightgreen')\n",
    "plt.title('top 10 highest revenue generating countries in 2018')\n",
    "plt.yticks(rotation = 45)\n",
    "plt.xticks(rotation = 75)\n",
    "plt.xlabel('Country')\n",
    "plt.ylabel('Total revenue')\n",
    "plt.ticklabel_format(style=\"plain\",axis='y')\n",
    "plt.show()"
   ]
  },
  {
   "cell_type": "code",
   "execution_count": 40,
   "id": "381d9ae4",
   "metadata": {},
   "outputs": [
    {
     "data": {
      "text/html": [
       "<div>\n",
       "<style scoped>\n",
       "    .dataframe tbody tr th:only-of-type {\n",
       "        vertical-align: middle;\n",
       "    }\n",
       "\n",
       "    .dataframe tbody tr th {\n",
       "        vertical-align: top;\n",
       "    }\n",
       "\n",
       "    .dataframe thead th {\n",
       "        text-align: right;\n",
       "    }\n",
       "</style>\n",
       "<table border=\"1\" class=\"dataframe\">\n",
       "  <thead>\n",
       "    <tr style=\"text-align: right;\">\n",
       "      <th></th>\n",
       "      <th>Totalrevenue</th>\n",
       "    </tr>\n",
       "    <tr>\n",
       "      <th>Country</th>\n",
       "      <th></th>\n",
       "    </tr>\n",
       "  </thead>\n",
       "  <tbody>\n",
       "    <tr>\n",
       "      <th>United Kingdom</th>\n",
       "      <td>48711202.33</td>\n",
       "    </tr>\n",
       "    <tr>\n",
       "      <th>Netherlands</th>\n",
       "      <td>2075716.15</td>\n",
       "    </tr>\n",
       "    <tr>\n",
       "      <th>EIRE</th>\n",
       "      <td>1635431.79</td>\n",
       "    </tr>\n",
       "    <tr>\n",
       "      <th>Germany</th>\n",
       "      <td>1270792.73</td>\n",
       "    </tr>\n",
       "    <tr>\n",
       "      <th>France</th>\n",
       "      <td>1238626.28</td>\n",
       "    </tr>\n",
       "    <tr>\n",
       "      <th>Australia</th>\n",
       "      <td>989883.72</td>\n",
       "    </tr>\n",
       "    <tr>\n",
       "      <th>Sweden</th>\n",
       "      <td>358472.29</td>\n",
       "    </tr>\n",
       "    <tr>\n",
       "      <th>Switzerland</th>\n",
       "      <td>352883.87</td>\n",
       "    </tr>\n",
       "    <tr>\n",
       "      <th>Spain</th>\n",
       "      <td>276363.28</td>\n",
       "    </tr>\n",
       "    <tr>\n",
       "      <th>Japan</th>\n",
       "      <td>243669.61</td>\n",
       "    </tr>\n",
       "  </tbody>\n",
       "</table>\n",
       "</div>"
      ],
      "text/plain": [
       "                Totalrevenue\n",
       "Country                     \n",
       "United Kingdom   48711202.33\n",
       "Netherlands       2075716.15\n",
       "EIRE              1635431.79\n",
       "Germany           1270792.73\n",
       "France            1238626.28\n",
       "Australia          989883.72\n",
       "Sweden             358472.29\n",
       "Switzerland        352883.87\n",
       "Spain              276363.28\n",
       "Japan              243669.61"
      ]
     },
     "execution_count": 40,
     "metadata": {},
     "output_type": "execute_result"
    }
   ],
   "source": [
    "\n",
    "df_2019=df2[df2.Year=='2019']\n",
    "maxrevenue_2019=pd.pivot_table(df_2019,index=\"Country\",values=\"Totalrevenue\",aggfunc=\"sum\").sort_values(\"Totalrevenue\",ascending=False).head(10)\n",
    "maxrevenue_2019\n"
   ]
  },
  {
   "cell_type": "code",
   "execution_count": 41,
   "id": "152ed288",
   "metadata": {},
   "outputs": [
    {
     "data": {
      "image/png": "[encoded data removed]",
      "text/plain": [
       "<Figure size 864x576 with 1 Axes>"
      ]
     },
     "metadata": {
      "needs_background": "light"
     },
     "output_type": "display_data"
    }
   ],
   "source": [
    "dfmaxrevenue2019=pd.DataFrame(maxrevenue_2019.to_records())\n",
    "plt.figure(figsize = (12,8))\n",
    "plt.bar(data = dfmaxrevenue2019, x = 'Country',height = 'Totalrevenue', color = 'lightgreen')\n",
    "plt.title('top 10 highest revenue generating countries in 2019')\n",
    "plt.yticks(rotation = 45)\n",
    "plt.xticks(rotation = 75)\n",
    "plt.xlabel('Country')\n",
    "plt.ylabel('Total revenue')\n",
    "plt.ticklabel_format(style=\"plain\",axis='y')\n",
    "plt.show()"
   ]
  },
  {
   "cell_type": "code",
   "execution_count": 42,
   "id": "0afcfad9",
   "metadata": {},
   "outputs": [
    {
     "data": {
      "text/html": [
       "<div>\n",
       "<style scoped>\n",
       "    .dataframe tbody tr th:only-of-type {\n",
       "        vertical-align: middle;\n",
       "    }\n",
       "\n",
       "    .dataframe tbody tr th {\n",
       "        vertical-align: top;\n",
       "    }\n",
       "\n",
       "    .dataframe thead th {\n",
       "        text-align: right;\n",
       "    }\n",
       "</style>\n",
       "<table border=\"1\" class=\"dataframe\">\n",
       "  <thead>\n",
       "    <tr style=\"text-align: right;\">\n",
       "      <th></th>\n",
       "      <th>Totalrevenue</th>\n",
       "    </tr>\n",
       "    <tr>\n",
       "      <th>Region</th>\n",
       "      <th></th>\n",
       "    </tr>\n",
       "  </thead>\n",
       "  <tbody>\n",
       "    <tr>\n",
       "      <th>Europe</th>\n",
       "      <td>61404043.53</td>\n",
       "    </tr>\n",
       "    <tr>\n",
       "      <th>Asia/Oceania</th>\n",
       "      <td>1456878.10</td>\n",
       "    </tr>\n",
       "    <tr>\n",
       "      <th>America</th>\n",
       "      <td>68011.83</td>\n",
       "    </tr>\n",
       "    <tr>\n",
       "      <th>Unspecified</th>\n",
       "      <td>32699.05</td>\n",
       "    </tr>\n",
       "    <tr>\n",
       "      <th>Africa</th>\n",
       "      <td>4259.83</td>\n",
       "    </tr>\n",
       "  </tbody>\n",
       "</table>\n",
       "</div>"
      ],
      "text/plain": [
       "              Totalrevenue\n",
       "Region                    \n",
       "Europe         61404043.53\n",
       "Asia/Oceania    1456878.10\n",
       "America           68011.83\n",
       " Unspecified      32699.05\n",
       "Africa             4259.83"
      ]
     },
     "execution_count": 42,
     "metadata": {},
     "output_type": "execute_result"
    }
   ],
   "source": [
    "regionrevenue=pd.pivot_table(df2,index=\"Region\",values=\"Totalrevenue\",aggfunc=\"sum\").sort_values(\"Totalrevenue\",ascending=False)\n",
    "regionrevenue"
   ]
  },
  {
   "cell_type": "code",
   "execution_count": 43,
   "id": "ab6eb55f",
   "metadata": {},
   "outputs": [],
   "source": [
    "dfregionrevenue=pd.DataFrame(regionrevenue.to_records())\n",
    "dfregionrevenue[\"Percentage\"]=dfregionrevenue.Totalrevenue.apply(lambda x: round((x/dfregionrevenue.Totalrevenue.sum())*100,2))"
   ]
  },
  {
   "cell_type": "code",
   "execution_count": 44,
   "id": "a566dc86",
   "metadata": {},
   "outputs": [
    {
     "data": {
      "text/html": [
       "<div>\n",
       "<style scoped>\n",
       "    .dataframe tbody tr th:only-of-type {\n",
       "        vertical-align: middle;\n",
       "    }\n",
       "\n",
       "    .dataframe tbody tr th {\n",
       "        vertical-align: top;\n",
       "    }\n",
       "\n",
       "    .dataframe thead th {\n",
       "        text-align: right;\n",
       "    }\n",
       "</style>\n",
       "<table border=\"1\" class=\"dataframe\">\n",
       "  <thead>\n",
       "    <tr style=\"text-align: right;\">\n",
       "      <th></th>\n",
       "      <th>Region</th>\n",
       "      <th>Totalrevenue</th>\n",
       "      <th>Percentage</th>\n",
       "    </tr>\n",
       "  </thead>\n",
       "  <tbody>\n",
       "    <tr>\n",
       "      <th>0</th>\n",
       "      <td>Europe</td>\n",
       "      <td>61404043.53</td>\n",
       "      <td>97.52</td>\n",
       "    </tr>\n",
       "    <tr>\n",
       "      <th>1</th>\n",
       "      <td>Asia/Oceania</td>\n",
       "      <td>1456878.10</td>\n",
       "      <td>2.31</td>\n",
       "    </tr>\n",
       "    <tr>\n",
       "      <th>2</th>\n",
       "      <td>America</td>\n",
       "      <td>68011.83</td>\n",
       "      <td>0.11</td>\n",
       "    </tr>\n",
       "    <tr>\n",
       "      <th>3</th>\n",
       "      <td>Unspecified</td>\n",
       "      <td>32699.05</td>\n",
       "      <td>0.05</td>\n",
       "    </tr>\n",
       "    <tr>\n",
       "      <th>4</th>\n",
       "      <td>Africa</td>\n",
       "      <td>4259.83</td>\n",
       "      <td>0.01</td>\n",
       "    </tr>\n",
       "  </tbody>\n",
       "</table>\n",
       "</div>"
      ],
      "text/plain": [
       "         Region  Totalrevenue  Percentage\n",
       "0        Europe   61404043.53       97.52\n",
       "1  Asia/Oceania    1456878.10        2.31\n",
       "2       America      68011.83        0.11\n",
       "3   Unspecified      32699.05        0.05\n",
       "4        Africa       4259.83        0.01"
      ]
     },
     "execution_count": 44,
     "metadata": {},
     "output_type": "execute_result"
    }
   ],
   "source": [
    "dfregionrevenue"
   ]
  },
  {
   "cell_type": "code",
   "execution_count": 45,
   "id": "d3dbff3e",
   "metadata": {},
   "outputs": [
    {
     "data": {
      "text/html": [
       "<div>\n",
       "<style scoped>\n",
       "    .dataframe tbody tr th:only-of-type {\n",
       "        vertical-align: middle;\n",
       "    }\n",
       "\n",
       "    .dataframe tbody tr th {\n",
       "        vertical-align: top;\n",
       "    }\n",
       "\n",
       "    .dataframe thead th {\n",
       "        text-align: right;\n",
       "    }\n",
       "</style>\n",
       "<table border=\"1\" class=\"dataframe\">\n",
       "  <thead>\n",
       "    <tr style=\"text-align: right;\">\n",
       "      <th></th>\n",
       "      <th></th>\n",
       "      <th>Totalrevenue</th>\n",
       "    </tr>\n",
       "    <tr>\n",
       "      <th>Region</th>\n",
       "      <th>ProductName</th>\n",
       "      <th></th>\n",
       "    </tr>\n",
       "  </thead>\n",
       "  <tbody>\n",
       "    <tr>\n",
       "      <th rowspan=\"10\" valign=\"top\">Europe</th>\n",
       "      <th>Paper Craft Little Birdie</th>\n",
       "      <td>1002718.10</td>\n",
       "    </tr>\n",
       "    <tr>\n",
       "      <th>Medium Ceramic Top Storage Jar</th>\n",
       "      <td>879528.49</td>\n",
       "    </tr>\n",
       "    <tr>\n",
       "      <th>Popcorn Holder</th>\n",
       "      <td>583674.62</td>\n",
       "    </tr>\n",
       "    <tr>\n",
       "      <th>World War 2 Gliders Asstd Designs</th>\n",
       "      <td>559665.96</td>\n",
       "    </tr>\n",
       "    <tr>\n",
       "      <th>Cream Hanging Heart T-Light Holder</th>\n",
       "      <td>483809.61</td>\n",
       "    </tr>\n",
       "    <tr>\n",
       "      <th>Assorted Colour Bird Ornament</th>\n",
       "      <td>420959.34</td>\n",
       "    </tr>\n",
       "    <tr>\n",
       "      <th>Pack Of 72 Retrospot Cake Cases</th>\n",
       "      <td>386377.70</td>\n",
       "    </tr>\n",
       "    <tr>\n",
       "      <th>Regency Cakestand 3 Tier</th>\n",
       "      <td>300703.23</td>\n",
       "    </tr>\n",
       "    <tr>\n",
       "      <th>Jumbo Bag Red Retrospot</th>\n",
       "      <td>295584.45</td>\n",
       "    </tr>\n",
       "    <tr>\n",
       "      <th>Party Bunting</th>\n",
       "      <td>279536.91</td>\n",
       "    </tr>\n",
       "  </tbody>\n",
       "</table>\n",
       "</div>"
      ],
      "text/plain": [
       "                                           Totalrevenue\n",
       "Region ProductName                                     \n",
       "Europe Paper Craft Little Birdie             1002718.10\n",
       "       Medium Ceramic Top Storage Jar         879528.49\n",
       "       Popcorn Holder                         583674.62\n",
       "       World War 2 Gliders Asstd Designs      559665.96\n",
       "       Cream Hanging Heart T-Light Holder     483809.61\n",
       "       Assorted Colour Bird Ornament          420959.34\n",
       "       Pack Of 72 Retrospot Cake Cases        386377.70\n",
       "       Regency Cakestand 3 Tier               300703.23\n",
       "       Jumbo Bag Red Retrospot                295584.45\n",
       "       Party Bunting                          279536.91"
      ]
     },
     "execution_count": 45,
     "metadata": {},
     "output_type": "execute_result"
    }
   ],
   "source": [
    "dfeu=df[df.Region==\"Europe\"]\n",
    "pd.pivot_table(dfeu,index=[\"Region\",\"ProductName\"],values=\"Totalrevenue\",aggfunc=\"sum\").sort_values(\"Totalrevenue\",ascending=False).head(10)"
   ]
  },
  {
   "cell_type": "code",
   "execution_count": 46,
   "id": "1d1c5608",
   "metadata": {},
   "outputs": [
    {
     "data": {
      "text/html": [
       "<div>\n",
       "<style scoped>\n",
       "    .dataframe tbody tr th:only-of-type {\n",
       "        vertical-align: middle;\n",
       "    }\n",
       "\n",
       "    .dataframe tbody tr th {\n",
       "        vertical-align: top;\n",
       "    }\n",
       "\n",
       "    .dataframe thead th {\n",
       "        text-align: right;\n",
       "    }\n",
       "</style>\n",
       "<table border=\"1\" class=\"dataframe\">\n",
       "  <thead>\n",
       "    <tr style=\"text-align: right;\">\n",
       "      <th></th>\n",
       "      <th></th>\n",
       "      <th>Totalrevenue</th>\n",
       "    </tr>\n",
       "    <tr>\n",
       "      <th>Region</th>\n",
       "      <th>ProductName</th>\n",
       "      <th></th>\n",
       "    </tr>\n",
       "  </thead>\n",
       "  <tbody>\n",
       "    <tr>\n",
       "      <th rowspan=\"10\" valign=\"top\">Asia/Oceania</th>\n",
       "      <th>Rabbit Night Light</th>\n",
       "      <td>54934.56</td>\n",
       "    </tr>\n",
       "    <tr>\n",
       "      <th>Mini Paint Set Vintage</th>\n",
       "      <td>38942.76</td>\n",
       "    </tr>\n",
       "    <tr>\n",
       "      <th>Round Snack Boxes Set Of 4 Fruits</th>\n",
       "      <td>20011.50</td>\n",
       "    </tr>\n",
       "    <tr>\n",
       "      <th>Red Harmonica In Box</th>\n",
       "      <td>19743.00</td>\n",
       "    </tr>\n",
       "    <tr>\n",
       "      <th>Red Toadstool Led Night Light</th>\n",
       "      <td>17650.80</td>\n",
       "    </tr>\n",
       "    <tr>\n",
       "      <th>Dolly Girl Lunch Box</th>\n",
       "      <td>13333.52</td>\n",
       "    </tr>\n",
       "    <tr>\n",
       "      <th>Homemade Jam Scented Candles</th>\n",
       "      <td>13302.72</td>\n",
       "    </tr>\n",
       "    <tr>\n",
       "      <th>Pack Of 12 Traditional Crayons</th>\n",
       "      <td>12766.20</td>\n",
       "    </tr>\n",
       "    <tr>\n",
       "      <th>Mini Jigsaw Spaceboy</th>\n",
       "      <td>12765.78</td>\n",
       "    </tr>\n",
       "    <tr>\n",
       "      <th>Spaceboy Lunch Box</th>\n",
       "      <td>12544.86</td>\n",
       "    </tr>\n",
       "  </tbody>\n",
       "</table>\n",
       "</div>"
      ],
      "text/plain": [
       "                                                Totalrevenue\n",
       "Region       ProductName                                    \n",
       "Asia/Oceania Rabbit Night Light                     54934.56\n",
       "             Mini Paint Set Vintage                 38942.76\n",
       "             Round Snack Boxes Set Of 4 Fruits      20011.50\n",
       "             Red Harmonica In Box                   19743.00\n",
       "             Red Toadstool Led Night Light          17650.80\n",
       "             Dolly Girl Lunch Box                   13333.52\n",
       "             Homemade Jam Scented Candles           13302.72\n",
       "             Pack Of 12 Traditional Crayons         12766.20\n",
       "             Mini Jigsaw Spaceboy                   12765.78\n",
       "             Spaceboy Lunch Box                     12544.86"
      ]
     },
     "execution_count": 46,
     "metadata": {},
     "output_type": "execute_result"
    }
   ],
   "source": [
    "pd.pivot_table(df[df.Region==\"Asia/Oceania\"],index=[\"Region\",\"ProductName\"],values=\"Totalrevenue\",aggfunc=\"sum\").sort_values(\"Totalrevenue\",ascending=False).head(10)"
   ]
  },
  {
   "cell_type": "code",
   "execution_count": 47,
   "id": "b65f1ff0",
   "metadata": {},
   "outputs": [
    {
     "data": {
      "text/html": [
       "<div>\n",
       "<style scoped>\n",
       "    .dataframe tbody tr th:only-of-type {\n",
       "        vertical-align: middle;\n",
       "    }\n",
       "\n",
       "    .dataframe tbody tr th {\n",
       "        vertical-align: top;\n",
       "    }\n",
       "\n",
       "    .dataframe thead th {\n",
       "        text-align: right;\n",
       "    }\n",
       "</style>\n",
       "<table border=\"1\" class=\"dataframe\">\n",
       "  <thead>\n",
       "    <tr style=\"text-align: right;\">\n",
       "      <th></th>\n",
       "      <th></th>\n",
       "      <th>Totalrevenue</th>\n",
       "    </tr>\n",
       "    <tr>\n",
       "      <th>Region</th>\n",
       "      <th>ProductName</th>\n",
       "      <th></th>\n",
       "    </tr>\n",
       "  </thead>\n",
       "  <tbody>\n",
       "    <tr>\n",
       "      <th rowspan=\"10\" valign=\"top\">America</th>\n",
       "      <th>Retro Coffee Mugs Assorted</th>\n",
       "      <td>5715.36</td>\n",
       "    </tr>\n",
       "    <tr>\n",
       "      <th>World War 2 Gliders Asstd Designs</th>\n",
       "      <td>3015.36</td>\n",
       "    </tr>\n",
       "    <tr>\n",
       "      <th>Set/10 Pink Polkadot Party Candles</th>\n",
       "      <td>830.16</td>\n",
       "    </tr>\n",
       "    <tr>\n",
       "      <th>Set/10 Blue Polkadot Party Candles</th>\n",
       "      <td>830.16</td>\n",
       "    </tr>\n",
       "    <tr>\n",
       "      <th>Set/10 Ivory Polkadot Party Candles</th>\n",
       "      <td>830.16</td>\n",
       "    </tr>\n",
       "    <tr>\n",
       "      <th>Set/10 Red Polkadot Party Candles</th>\n",
       "      <td>830.16</td>\n",
       "    </tr>\n",
       "    <tr>\n",
       "      <th>Charlotte Bag Suki Design</th>\n",
       "      <td>676.81</td>\n",
       "    </tr>\n",
       "    <tr>\n",
       "      <th>Colouring Pencils Brown Tube</th>\n",
       "      <td>666.60</td>\n",
       "    </tr>\n",
       "    <tr>\n",
       "      <th>Regency Cakestand 3 Tier</th>\n",
       "      <td>648.38</td>\n",
       "    </tr>\n",
       "    <tr>\n",
       "      <th>Set Of 12 Fairy Cake Baking Cases</th>\n",
       "      <td>621.60</td>\n",
       "    </tr>\n",
       "  </tbody>\n",
       "</table>\n",
       "</div>"
      ],
      "text/plain": [
       "                                             Totalrevenue\n",
       "Region  ProductName                                      \n",
       "America Retro Coffee Mugs Assorted                5715.36\n",
       "        World War 2 Gliders Asstd Designs         3015.36\n",
       "        Set/10 Pink Polkadot Party Candles         830.16\n",
       "        Set/10 Blue Polkadot Party Candles         830.16\n",
       "        Set/10 Ivory Polkadot Party Candles        830.16\n",
       "        Set/10 Red Polkadot Party Candles          830.16\n",
       "        Charlotte Bag Suki Design                  676.81\n",
       "        Colouring Pencils Brown Tube               666.60\n",
       "        Regency Cakestand 3 Tier                   648.38\n",
       "        Set Of 12 Fairy Cake Baking Cases          621.60"
      ]
     },
     "execution_count": 47,
     "metadata": {},
     "output_type": "execute_result"
    }
   ],
   "source": [
    "pd.pivot_table(df[df.Region==\"America\"],index=[\"Region\",\"ProductName\"],values=\"Totalrevenue\",aggfunc=\"sum\").sort_values(\"Totalrevenue\",ascending=False).head(10)"
   ]
  },
  {
   "cell_type": "code",
   "execution_count": null,
   "id": "19380b92",
   "metadata": {},
   "outputs": [],
   "source": [
    "\n"
   ]
  },
  {
   "cell_type": "code",
   "execution_count": 48,
   "id": "b11b80c0",
   "metadata": {},
   "outputs": [
    {
     "name": "stderr",
     "output_type": "stream",
     "text": [
      "C:\\Users\\farou\\AppData\\Local\\Temp\\ipykernel_744\\468168294.py:1: UserWarning: Boolean Series key will be reindexed to match DataFrame index.\n",
      "  erevenue=pd.pivot_table(df2[~(df.Quantity)<0],index=[\"Year\",'Month','MonthName'],values=\"Totalrevenue\",aggfunc=\"sum\").sort_values([\"Year\",\"Month\"])\n",
      "C:\\Users\\farou\\AppData\\Local\\Temp\\ipykernel_744\\468168294.py:2: UserWarning: Boolean Series key will be reindexed to match DataFrame index.\n",
      "  eprice=pd.pivot_table(df2[~(df.Quantity)<0],index=[\"Year\",'Month','MonthName'],values=\"Price\",aggfunc=\"mean\").sort_values([\"Year\",\"Month\"])\n"
     ]
    }
   ],
   "source": [
    "\n",
    "erevenue=pd.pivot_table(df2[~(df.Quantity)<0],index=[\"Year\",'Month','MonthName'],values=\"Totalrevenue\",aggfunc=\"sum\").sort_values([\"Year\",\"Month\"])\n",
    "eprice=pd.pivot_table(df2[~(df.Quantity)<0],index=[\"Year\",'Month','MonthName'],values=\"Price\",aggfunc=\"mean\").sort_values([\"Year\",\"Month\"])\n"
   ]
  },
  {
   "cell_type": "code",
   "execution_count": 49,
   "id": "c31616da",
   "metadata": {},
   "outputs": [
    {
     "data": {
      "text/html": [
       "<div>\n",
       "<style scoped>\n",
       "    .dataframe tbody tr th:only-of-type {\n",
       "        vertical-align: middle;\n",
       "    }\n",
       "\n",
       "    .dataframe tbody tr th {\n",
       "        vertical-align: top;\n",
       "    }\n",
       "\n",
       "    .dataframe thead th {\n",
       "        text-align: right;\n",
       "    }\n",
       "</style>\n",
       "<table border=\"1\" class=\"dataframe\">\n",
       "  <thead>\n",
       "    <tr style=\"text-align: right;\">\n",
       "      <th></th>\n",
       "      <th>Year</th>\n",
       "      <th>Month</th>\n",
       "      <th>MonthName</th>\n",
       "      <th>Price</th>\n",
       "    </tr>\n",
       "  </thead>\n",
       "  <tbody>\n",
       "    <tr>\n",
       "      <th>0</th>\n",
       "      <td>2018</td>\n",
       "      <td>12</td>\n",
       "      <td>December</td>\n",
       "      <td>14.101136</td>\n",
       "    </tr>\n",
       "    <tr>\n",
       "      <th>1</th>\n",
       "      <td>2019</td>\n",
       "      <td>1</td>\n",
       "      <td>January</td>\n",
       "      <td>13.568424</td>\n",
       "    </tr>\n",
       "    <tr>\n",
       "      <th>2</th>\n",
       "      <td>2019</td>\n",
       "      <td>2</td>\n",
       "      <td>February</td>\n",
       "      <td>13.672189</td>\n",
       "    </tr>\n",
       "    <tr>\n",
       "      <th>3</th>\n",
       "      <td>2019</td>\n",
       "      <td>3</td>\n",
       "      <td>March</td>\n",
       "      <td>13.594603</td>\n",
       "    </tr>\n",
       "    <tr>\n",
       "      <th>4</th>\n",
       "      <td>2019</td>\n",
       "      <td>4</td>\n",
       "      <td>April</td>\n",
       "      <td>13.383292</td>\n",
       "    </tr>\n",
       "    <tr>\n",
       "      <th>5</th>\n",
       "      <td>2019</td>\n",
       "      <td>5</td>\n",
       "      <td>May</td>\n",
       "      <td>13.290391</td>\n",
       "    </tr>\n",
       "    <tr>\n",
       "      <th>6</th>\n",
       "      <td>2019</td>\n",
       "      <td>6</td>\n",
       "      <td>June</td>\n",
       "      <td>13.232658</td>\n",
       "    </tr>\n",
       "    <tr>\n",
       "      <th>7</th>\n",
       "      <td>2019</td>\n",
       "      <td>7</td>\n",
       "      <td>July</td>\n",
       "      <td>12.846335</td>\n",
       "    </tr>\n",
       "    <tr>\n",
       "      <th>8</th>\n",
       "      <td>2019</td>\n",
       "      <td>8</td>\n",
       "      <td>August</td>\n",
       "      <td>12.895464</td>\n",
       "    </tr>\n",
       "    <tr>\n",
       "      <th>9</th>\n",
       "      <td>2019</td>\n",
       "      <td>9</td>\n",
       "      <td>September</td>\n",
       "      <td>12.957153</td>\n",
       "    </tr>\n",
       "    <tr>\n",
       "      <th>10</th>\n",
       "      <td>2019</td>\n",
       "      <td>10</td>\n",
       "      <td>October</td>\n",
       "      <td>13.090300</td>\n",
       "    </tr>\n",
       "    <tr>\n",
       "      <th>11</th>\n",
       "      <td>2019</td>\n",
       "      <td>11</td>\n",
       "      <td>November</td>\n",
       "      <td>11.062029</td>\n",
       "    </tr>\n",
       "    <tr>\n",
       "      <th>12</th>\n",
       "      <td>2019</td>\n",
       "      <td>12</td>\n",
       "      <td>December</td>\n",
       "      <td>6.503101</td>\n",
       "    </tr>\n",
       "  </tbody>\n",
       "</table>\n",
       "</div>"
      ],
      "text/plain": [
       "    Year  Month  MonthName      Price\n",
       "0   2018     12   December  14.101136\n",
       "1   2019      1    January  13.568424\n",
       "2   2019      2   February  13.672189\n",
       "3   2019      3      March  13.594603\n",
       "4   2019      4      April  13.383292\n",
       "5   2019      5        May  13.290391\n",
       "6   2019      6       June  13.232658\n",
       "7   2019      7       July  12.846335\n",
       "8   2019      8     August  12.895464\n",
       "9   2019      9  September  12.957153\n",
       "10  2019     10    October  13.090300\n",
       "11  2019     11   November  11.062029\n",
       "12  2019     12   December   6.503101"
      ]
     },
     "execution_count": 49,
     "metadata": {},
     "output_type": "execute_result"
    }
   ],
   "source": [
    "df_erevenue= pivot_to_df(erevenue)\n",
    "df_eprice= pivot_to_df(eprice)\n",
    "df_eprice"
   ]
  },
  {
   "cell_type": "code",
   "execution_count": 50,
   "id": "0a7e3512",
   "metadata": {},
   "outputs": [
    {
     "data": {
      "text/html": [
       "<div>\n",
       "<style scoped>\n",
       "    .dataframe tbody tr th:only-of-type {\n",
       "        vertical-align: middle;\n",
       "    }\n",
       "\n",
       "    .dataframe tbody tr th {\n",
       "        vertical-align: top;\n",
       "    }\n",
       "\n",
       "    .dataframe thead th {\n",
       "        text-align: right;\n",
       "    }\n",
       "</style>\n",
       "<table border=\"1\" class=\"dataframe\">\n",
       "  <thead>\n",
       "    <tr style=\"text-align: right;\">\n",
       "      <th></th>\n",
       "      <th>Year</th>\n",
       "      <th>Month</th>\n",
       "      <th>MonthName</th>\n",
       "      <th>Totalrevenue</th>\n",
       "    </tr>\n",
       "  </thead>\n",
       "  <tbody>\n",
       "    <tr>\n",
       "      <th>0</th>\n",
       "      <td>2018</td>\n",
       "      <td>12</td>\n",
       "      <td>December</td>\n",
       "      <td>4415415.52</td>\n",
       "    </tr>\n",
       "    <tr>\n",
       "      <th>1</th>\n",
       "      <td>2019</td>\n",
       "      <td>1</td>\n",
       "      <td>January</td>\n",
       "      <td>4559856.37</td>\n",
       "    </tr>\n",
       "    <tr>\n",
       "      <th>2</th>\n",
       "      <td>2019</td>\n",
       "      <td>2</td>\n",
       "      <td>February</td>\n",
       "      <td>3335017.18</td>\n",
       "    </tr>\n",
       "    <tr>\n",
       "      <th>3</th>\n",
       "      <td>2019</td>\n",
       "      <td>3</td>\n",
       "      <td>March</td>\n",
       "      <td>4398401.60</td>\n",
       "    </tr>\n",
       "    <tr>\n",
       "      <th>4</th>\n",
       "      <td>2019</td>\n",
       "      <td>4</td>\n",
       "      <td>April</td>\n",
       "      <td>3589497.88</td>\n",
       "    </tr>\n",
       "    <tr>\n",
       "      <th>5</th>\n",
       "      <td>2019</td>\n",
       "      <td>5</td>\n",
       "      <td>May</td>\n",
       "      <td>4578965.08</td>\n",
       "    </tr>\n",
       "    <tr>\n",
       "      <th>6</th>\n",
       "      <td>2019</td>\n",
       "      <td>6</td>\n",
       "      <td>June</td>\n",
       "      <td>4494648.81</td>\n",
       "    </tr>\n",
       "    <tr>\n",
       "      <th>7</th>\n",
       "      <td>2019</td>\n",
       "      <td>7</td>\n",
       "      <td>July</td>\n",
       "      <td>4593867.06</td>\n",
       "    </tr>\n",
       "    <tr>\n",
       "      <th>8</th>\n",
       "      <td>2019</td>\n",
       "      <td>8</td>\n",
       "      <td>August</td>\n",
       "      <td>4758356.02</td>\n",
       "    </tr>\n",
       "    <tr>\n",
       "      <th>9</th>\n",
       "      <td>2019</td>\n",
       "      <td>9</td>\n",
       "      <td>September</td>\n",
       "      <td>6628303.06</td>\n",
       "    </tr>\n",
       "    <tr>\n",
       "      <th>10</th>\n",
       "      <td>2019</td>\n",
       "      <td>10</td>\n",
       "      <td>October</td>\n",
       "      <td>7237417.36</td>\n",
       "    </tr>\n",
       "    <tr>\n",
       "      <th>11</th>\n",
       "      <td>2019</td>\n",
       "      <td>11</td>\n",
       "      <td>November</td>\n",
       "      <td>7861197.12</td>\n",
       "    </tr>\n",
       "    <tr>\n",
       "      <th>12</th>\n",
       "      <td>2019</td>\n",
       "      <td>12</td>\n",
       "      <td>December</td>\n",
       "      <td>2514949.28</td>\n",
       "    </tr>\n",
       "  </tbody>\n",
       "</table>\n",
       "</div>"
      ],
      "text/plain": [
       "    Year  Month  MonthName  Totalrevenue\n",
       "0   2018     12   December    4415415.52\n",
       "1   2019      1    January    4559856.37\n",
       "2   2019      2   February    3335017.18\n",
       "3   2019      3      March    4398401.60\n",
       "4   2019      4      April    3589497.88\n",
       "5   2019      5        May    4578965.08\n",
       "6   2019      6       June    4494648.81\n",
       "7   2019      7       July    4593867.06\n",
       "8   2019      8     August    4758356.02\n",
       "9   2019      9  September    6628303.06\n",
       "10  2019     10    October    7237417.36\n",
       "11  2019     11   November    7861197.12\n",
       "12  2019     12   December    2514949.28"
      ]
     },
     "execution_count": 50,
     "metadata": {},
     "output_type": "execute_result"
    }
   ],
   "source": [
    "df_erevenue"
   ]
  },
  {
   "cell_type": "code",
   "execution_count": 51,
   "id": "8d3b18b5",
   "metadata": {},
   "outputs": [
    {
     "data": {
      "image/png": "[encoded data removed]",
      "text/plain": [
       "<Figure size 864x576 with 1 Axes>"
      ]
     },
     "metadata": {
      "needs_background": "light"
     },
     "output_type": "display_data"
    }
   ],
   "source": [
    "\n",
    "month_year=df_erevenue['MonthName'].map(str) + ' ' + df_erevenue['Year'].map(str)\n",
    "\n",
    "plt.figure(figsize = (12,8))\n",
    "plt.plot(month_year[month_year!=\"December 2019\"], df_erevenue.iloc[:12,3], color = 'blue', marker = 's',alpha = 0.8)\n",
    "plt.title('Sales  evolution')\n",
    "plt.yticks(rotation = 45)\n",
    "plt.xticks(rotation = 45)\n",
    "plt.xlabel('MonthName')\n",
    "plt.ylabel('Totalrevenue')\n",
    "plt.ticklabel_format(style=\"plain\",axis='y')\n",
    "plt.show()"
   ]
  },
  {
   "cell_type": "code",
   "execution_count": 52,
   "id": "01d4a3bb",
   "metadata": {},
   "outputs": [
    {
     "data": {
      "text/plain": [
       "0      December 2018\n",
       "1       January 2019\n",
       "2      February 2019\n",
       "3         March 2019\n",
       "4         April 2019\n",
       "5           May 2019\n",
       "6          June 2019\n",
       "7          July 2019\n",
       "8        August 2019\n",
       "9     September 2019\n",
       "10      October 2019\n",
       "11     November 2019\n",
       "dtype: object"
      ]
     },
     "execution_count": 52,
     "metadata": {},
     "output_type": "execute_result"
    }
   ],
   "source": [
    "month_year[month_year!=\"December 2019\"]"
   ]
  },
  {
   "cell_type": "code",
   "execution_count": 53,
   "id": "98c691eb",
   "metadata": {},
   "outputs": [
    {
     "data": {
      "text/plain": [
       "10.594678682138229"
      ]
     },
     "execution_count": 53,
     "metadata": {},
     "output_type": "execute_result"
    }
   ],
   "source": [
    "df2[\"Quantity\"].mean()"
   ]
  },
  {
   "cell_type": "code",
   "execution_count": 68,
   "id": "88aa4020",
   "metadata": {},
   "outputs": [
    {
     "data": {
      "text/plain": [
       "<AxesSubplot:>"
      ]
     },
     "execution_count": 68,
     "metadata": {},
     "output_type": "execute_result"
    },
    {
     "data": {
      "image/png": "[encoded data removed]",
      "text/plain": [
       "<Figure size 432x288 with 1 Axes>"
      ]
     },
     "metadata": {
      "needs_background": "light"
     },
     "output_type": "display_data"
    }
   ],
   "source": [
    "quantity_perT=pd.pivot_table(df2,index=\"TransactionNo\",values=\"Quantity\",aggfunc=\"sum\").sort_values(\"Quantity\",ascending=True)\n",
    "average_Q=pivot_to_df(quantity_perT)\n",
    "average_Q[\"Quantity\"].mean()\n",
    "average_Q.boxplot(column='Quantity',widths= 0.9)"
   ]
  },
  {
   "cell_type": "code",
   "execution_count": 55,
   "id": "05fd0426",
   "metadata": {},
   "outputs": [
    {
     "data": {
      "text/html": [
       "<div>\n",
       "<style scoped>\n",
       "    .dataframe tbody tr th:only-of-type {\n",
       "        vertical-align: middle;\n",
       "    }\n",
       "\n",
       "    .dataframe tbody tr th {\n",
       "        vertical-align: top;\n",
       "    }\n",
       "\n",
       "    .dataframe thead th {\n",
       "        text-align: right;\n",
       "    }\n",
       "</style>\n",
       "<table border=\"1\" class=\"dataframe\">\n",
       "  <thead>\n",
       "    <tr style=\"text-align: right;\">\n",
       "      <th></th>\n",
       "      <th>TransactionNo</th>\n",
       "      <th>Date</th>\n",
       "      <th>ProductNo</th>\n",
       "      <th>ProductName</th>\n",
       "      <th>Price</th>\n",
       "      <th>Quantity</th>\n",
       "      <th>CustomerNo</th>\n",
       "      <th>Country</th>\n",
       "      <th>Month</th>\n",
       "      <th>Year</th>\n",
       "      <th>MonthName</th>\n",
       "      <th>Totalrevenue</th>\n",
       "      <th>Region</th>\n",
       "    </tr>\n",
       "  </thead>\n",
       "  <tbody>\n",
       "    <tr>\n",
       "      <th>142</th>\n",
       "      <td>581483</td>\n",
       "      <td>2019-12-09</td>\n",
       "      <td>23843</td>\n",
       "      <td>Paper Craft Little Birdie</td>\n",
       "      <td>12.38</td>\n",
       "      <td>80995</td>\n",
       "      <td>16446.0</td>\n",
       "      <td>United Kingdom</td>\n",
       "      <td>12</td>\n",
       "      <td>2019</td>\n",
       "      <td>December</td>\n",
       "      <td>1002718.1</td>\n",
       "      <td>Europe</td>\n",
       "    </tr>\n",
       "    <tr>\n",
       "      <th>1616</th>\n",
       "      <td>C581484</td>\n",
       "      <td>2019-12-09</td>\n",
       "      <td>23843</td>\n",
       "      <td>Paper Craft Little Birdie</td>\n",
       "      <td>6.19</td>\n",
       "      <td>-80995</td>\n",
       "      <td>16446.0</td>\n",
       "      <td>United Kingdom</td>\n",
       "      <td>12</td>\n",
       "      <td>2019</td>\n",
       "      <td>December</td>\n",
       "      <td>0.0</td>\n",
       "      <td>Europe</td>\n",
       "    </tr>\n",
       "  </tbody>\n",
       "</table>\n",
       "</div>"
      ],
      "text/plain": [
       "     TransactionNo       Date ProductNo                ProductName  Price  \\\n",
       "142         581483 2019-12-09     23843  Paper Craft Little Birdie  12.38   \n",
       "1616       C581484 2019-12-09     23843  Paper Craft Little Birdie   6.19   \n",
       "\n",
       "      Quantity  CustomerNo         Country  Month  Year MonthName  \\\n",
       "142      80995     16446.0  United Kingdom     12  2019  December   \n",
       "1616    -80995     16446.0  United Kingdom     12  2019  December   \n",
       "\n",
       "      Totalrevenue  Region  \n",
       "142      1002718.1  Europe  \n",
       "1616           0.0  Europe  "
      ]
     },
     "execution_count": 55,
     "metadata": {},
     "output_type": "execute_result"
    }
   ],
   "source": [
    "df[df.ProductName==\"Paper Craft Little Birdie\"]"
   ]
  },
  {
   "cell_type": "code",
   "execution_count": null,
   "id": "7459f076",
   "metadata": {},
   "outputs": [],
   "source": []
  }
 ],
 "metadata": {
  "kernelspec": {
   "display_name": "Python 3 (ipykernel)",
   "language": "python",
   "name": "python3"
  },
  "language_info": {
   "codemirror_mode": {
    "name": "ipython",
    "version": 3
   },
   "file_extension": ".py",
   "mimetype": "text/x-python",
   "name": "python",
   "nbconvert_exporter": "python",
   "pygments_lexer": "ipython3",
   "version": "3.9.12"
  }
 },
 "nbformat": 4,
 "nbformat_minor": 5
}
